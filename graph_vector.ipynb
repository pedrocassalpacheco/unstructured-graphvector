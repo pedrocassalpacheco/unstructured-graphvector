{
 "cells": [
  {
   "cell_type": "code",
   "execution_count": 2,
   "metadata": {},
   "outputs": [
    {
     "name": "stdout",
     "output_type": "stream",
     "text": [
      "Note: you may need to restart the kernel to use updated packages.\n"
     ]
    }
   ],
   "source": [
    "%pip install -q -U -r requirements.txt\n"
   ]
  },
  {
   "cell_type": "markdown",
   "metadata": {},
   "source": [
    "### Utilities"
   ]
  },
  {
   "cell_type": "code",
   "execution_count": 3,
   "metadata": {},
   "outputs": [],
   "source": [
    "import matplotlib.pyplot as plt\n",
    "import networkx as nx\n",
    "\n",
    "def quick_plot(G):\n",
    "\n",
    "    pos = nx.spring_layout(G)\n",
    "    nx.draw(G, pos)\n",
    "    nx.draw_networkx_labels(d2g.graph, pos)\n",
    "\n",
    "    plt.show()\n"
   ]
  },
  {
   "cell_type": "code",
   "execution_count": 4,
   "metadata": {},
   "outputs": [],
   "source": [
    "from pyvis.network import Network\n",
    "def nice_plot(graph, file_name):\n",
    "        net = Network(\n",
    "            notebook=True,\n",
    "            cdn_resources=\"in_line\",\n",
    "            bgcolor=\"#222222\",\n",
    "            font_color=\"white\",\n",
    "            height=\"750px\",\n",
    "            width=\"100%\",\n",
    "        )\n",
    "        # Convert the NetworkX graph to a PyVis graph\n",
    "        for n in graph.nodes(data=True):\n",
    "            print(n)\n",
    "            n[1]['label']=n[0]+' '+n[1]['type'] \n",
    "\n",
    "        net.from_nx(graph)\n",
    "\n",
    "        # Render the graph in the Jupyter notebook\n",
    "        net.show_buttons()\n",
    "        net.show(file_name + \".html\")\n"
   ]
  },
  {
   "cell_type": "code",
   "execution_count": 5,
   "metadata": {},
   "outputs": [],
   "source": [
    "def find_nodes_by_attribute(G, attribute_name, attribute_value=None):\n",
    "    found_nodes = []\n",
    "    for node, attrs in G.nodes(data=True):\n",
    "        if attribute_name in attrs:\n",
    "            if attribute_value is None or attrs[attribute_name] == attribute_value:\n",
    "                found_nodes.append(node)\n",
    "    return found_nodes\n"
   ]
  },
  {
   "cell_type": "code",
   "execution_count": 6,
   "metadata": {},
   "outputs": [],
   "source": [
    "def nearest_neighbors(G, start_node, depth=2):\n",
    "\n",
    "    bfs_edges = nx.bfs_edges(G, start_node, depth_limit=depth)\n",
    "    visited_nodes = set([start_node])\n",
    "    edges_list = []\n",
    "\n",
    "    for u, v in bfs_edges:\n",
    "        visited_nodes.add(v)\n",
    "        edges_list.append((u, v))\n",
    "\n",
    "    print(\"Node Attributes:\")\n",
    "    for node in visited_nodes:\n",
    "        pp.pprint(f\"Node {node}\")\n",
    "        for attr, value in G.nodes[node].items():\n",
    "            print(f\"\\t{attr}: {value}\")\n",
    "\n",
    "    print(\"\\nEdge Attributes:\")\n",
    "    for u, v in edges_list:\n",
    "        if G.has_edge(u, v):\n",
    "            pp.pprint(f\"Edge ({u}, {v}): {G[u][v]}\")\n"
   ]
  },
  {
   "cell_type": "code",
   "execution_count": 7,
   "metadata": {},
   "outputs": [],
   "source": [
    "def print_element(element):\n",
    "    print(\"Type of element:\", type(element))\n",
    "    print(\"ID:\", element.id)\n",
    "    print(element.text)\n",
    "    print(\"Metadata:\")\n",
    "    pp.pprint(element.metadata.to_dict())\n"
   ]
  },
  {
   "cell_type": "code",
   "execution_count": 8,
   "metadata": {},
   "outputs": [],
   "source": [
    "import networkx as nx\n",
    "def print_node_attributes(child_node):\n",
    "    for parent, child in nx.bfs_predecessors(G.reverse(), child_node):\n",
    "        # Print node attributes\n",
    "        child_attributes = G.nodes[child]\n",
    "        parent_attributes = G.nodes[parent]\n",
    "\n",
    "        print(f\"Child Node {child} Attributes: {child_attributes}\")\n",
    "        print(f\"Parent Node {parent} Attributes: {parent_attributes}\")\n",
    "\n",
    "        # Print edge attributes\n",
    "        edge_attributes = G[parent][child]\n",
    "        print(f\"Edge from {parent} to {child} Attributes: {edge_attributes}\")\n",
    "        print(\"-\" * 50)\n",
    "\n",
    "    # Additionally, print the attributes of the starting node (child_node)\n",
    "    print(f\"Starting Node {child_node} Attributes: {G.nodes[child_node]}\")\n"
   ]
  },
  {
   "cell_type": "code",
   "execution_count": 9,
   "metadata": {},
   "outputs": [],
   "source": [
    "def find_element(id:str):\n",
    "    for element in document[\"elements\"]:\n",
    "        if element.id == id:\n",
    "            return element\n",
    "    return None\n"
   ]
  },
  {
   "cell_type": "code",
   "execution_count": 10,
   "metadata": {},
   "outputs": [],
   "source": [
    "def get_fanout_edges_and_nodes(graph, source_node):\n",
    "    fanout_edges = list(nx.bfs_edges(graph, source=source_node))\n",
    "    fanout_nodes = set([node for edge in fanout_edges for node in edge])\n",
    "    print(\"Fanout edges:\", fanout_edges)\n",
    "    print(\"Fanout nodes:\", fanout_nodes)\n",
    "    return fanout_edges, fanout_nodes\n"
   ]
  },
  {
   "cell_type": "markdown",
   "metadata": {},
   "source": [
    "### Converts Doc to Graph"
   ]
  },
  {
   "cell_type": "code",
   "execution_count": 11,
   "metadata": {},
   "outputs": [
    {
     "data": {
      "application/vnd.jupyter.widget-view+json": {
       "model_id": "f5754a12269d46659028e645c3d957c2",
       "version_major": 2,
       "version_minor": 0
      },
      "text/plain": [
       "  0%|          | 0/1 [00:00<?, ?it/s]"
      ]
     },
     "metadata": {},
     "output_type": "display_data"
    },
    {
     "name": "stderr",
     "output_type": "stream",
     "text": [
      "2024-10-23 10:27:29,897 - pikepdf._core - INFO - pikepdf C++ to Python logger bridge initialized\n",
      "2024-10-23 10:28:38,437 - unstructured_inference - INFO - Reading PDF for file: ./data/MSNA20180726707877.pdf ...\n",
      "2024-10-23 10:30:03,924 - unstructured_inference - INFO - Loading the Table agent ...\n",
      "2024-10-23 10:30:03,925 - unstructured_inference - INFO - Loading the table structure model ...\n",
      "2024-10-23 10:30:04,128 - timm.models._builder - INFO - Loading pretrained weights from Hugging Face hub (timm/resnet18.a1_in1k)\n",
      "2024-10-23 10:30:04,205 - timm.models._hub - INFO - [timm/resnet18.a1_in1k] Safe alternative available for 'pytorch_model.bin' (as 'model.safetensors'). Loading weights using safetensors.\n",
      "2024-10-23 10:30:04,240 - timm.models._builder - INFO - Missing keys (fc.weight, fc.bias) discovered while loading pretrained weights. This is expected if model is being adapted.\n",
      "Some weights of the model checkpoint at microsoft/table-transformer-structure-recognition were not used when initializing TableTransformerForObjectDetection: ['model.backbone.conv_encoder.model.layer2.0.downsample.1.num_batches_tracked', 'model.backbone.conv_encoder.model.layer3.0.downsample.1.num_batches_tracked', 'model.backbone.conv_encoder.model.layer4.0.downsample.1.num_batches_tracked']\n",
      "- This IS expected if you are initializing TableTransformerForObjectDetection from the checkpoint of a model trained on another task or with another architecture (e.g. initializing a BertForSequenceClassification model from a BertForPreTraining model).\n",
      "- This IS NOT expected if you are initializing TableTransformerForObjectDetection from the checkpoint of a model that you expect to be exactly identical (initializing a BertForSequenceClassification model from a BertForSequenceClassification model).\n",
      "2024-10-23 10:31:27,313 - doc2graph - ERROR - Unable to set label for node a8a981b03f95f185e5c303d8f3db5157 while plotting graph: 'type'\n"
     ]
    },
    {
     "name": "stdout",
     "output_type": "stream",
     "text": [
      "doc2graph.html\n"
     ]
    }
   ],
   "source": [
    "from unstructured.partition.pdf import partition_pdf\n",
    "from doc2graph import Doc2Graph\n",
    "from tqdm.notebook import tqdm\n",
    "import os\n",
    "from glob import glob\n",
    "\n",
    "def document_processor(directory, pattern):\n",
    "    for x in os.walk(directory):\n",
    "        pdf_files = glob(os.path.join(x[0], pattern))\n",
    "        for file_name in tqdm(pdf_files):\n",
    "            elements = partition_pdf(\n",
    "                filename=file_name,\n",
    "                extract_images_in_pdf=True,\n",
    "                infer_table_structure=True,\n",
    "                max_characters=2000,\n",
    "                new_after_n_chars=1700,\n",
    "                extract_image_block_output_dir=\"images/\",\n",
    "            )\n",
    "            yield {\"file\": file_name, \"elements\": elements}\n",
    "            \n",
    "for document in document_processor(\"./data\", \"*.pdf\"):\n",
    "    d2g = Doc2Graph(document[\"file\"], infer_hierarchy=False)\n",
    "    for element in document[\"elements\"]:\n",
    "        d2g.process_element(element)\n",
    "    break\n",
    "\n",
    "d2g.plot_graph(\"doc2graph\")\n",
    "G = d2g.graph\n",
    "\n"
   ]
  },
  {
   "cell_type": "code",
   "execution_count": 12,
   "metadata": {},
   "outputs": [
    {
     "name": "stderr",
     "output_type": "stream",
     "text": [
      "2024-10-23 11:04:12,774 - cassandra.policies - INFO - Using datacenter 'us-east-2' for DCAwareRoundRobinPolicy (via host 'e9b06722-b7b7-4d7d-9ba0-801344f200de-us-east-2.db.astra.datastax.com:29042:0669df0f-031f-383e-b452-67a9679bbc6a'); if incorrect, please specify a local_dc to the constructor, or limit contact points to local cluster nodes\n",
      "/Users/pedropacheco/Projects/demos/unstructured-raggraph/nx2document.py:24: LangChainBetaWarning: The class `CassandraGraphVectorStore` is in beta. It is actively being worked on, so the API may change.\n",
      "  self.content_centric_store = CassandraGraphVectorStore(\n",
      "2024-10-23 11:04:14,537 - httpx - INFO - HTTP Request: POST https://api.openai.com/v1/embeddings \"HTTP/1.1 200 OK\"\n",
      "2024-10-23 11:04:15,897 - httpx - INFO - HTTP Request: POST https://api.openai.com/v1/embeddings \"HTTP/1.1 200 OK\"\n",
      "2024-10-23 11:04:16,233 - cassandra.protocol - WARNING - Server warning: Detected collection link_to_tags with 85 items, greater than the maximum recommended (20)\n",
      "2024-10-23 11:04:16,405 - httpx - INFO - HTTP Request: POST https://api.openai.com/v1/embeddings \"HTTP/1.1 200 OK\"\n"
     ]
    },
    {
     "name": "stdout",
     "output_type": "stream",
     "text": [
      "page_content='n/a' metadata={'type': 'document', 'links': [Link(kind='document', direction='out', tag='f41b015e6c9ed4b84dd25e6e631d8721'), Link(kind='document', direction='out', tag='f070e7f9ebc24af8414c6d08f4726731'), Link(kind='document', direction='out', tag='e563f0d09a5568da64351a5bbb67bebe'), Link(kind='document', direction='out', tag='407006d14a6acc3a5011a15d6e2be801'), Link(kind='document', direction='out', tag='fd96d7cf8cadabac3bb0f0982813e636'), Link(kind='document', direction='out', tag='6b15dfb496b0a05db39b26b10a978c21'), Link(kind='document', direction='out', tag='4f64898538fdbc30d889389fde660884'), Link(kind='document', direction='out', tag='5aa1120c9bed65e09c4331e818525fad'), Link(kind='document', direction='out', tag='ef563c511cb861c7073874492adcc86b'), Link(kind='document', direction='out', tag='7de6f52965131771c63856a6bbe4c14a'), Link(kind='document', direction='out', tag='95df813abe6e7dc7a867c8be00ba1fd2'), Link(kind='document', direction='out', tag='ebd067809a889179b511a6591a25729f'), Link(kind='document', direction='out', tag='13065580f7f42968a18954ae5b6cb9eb'), Link(kind='document', direction='out', tag='43b3b5e8fd81d1b9c24a3965c2b87cfa'), Link(kind='document', direction='out', tag='c79ab7a0d871ffedafb57e4679677ed1'), Link(kind='document', direction='out', tag='584946d1b5ad9e77c6843ba6c2a7f80a'), Link(kind='document', direction='out', tag='fc0ec62dbcb825944787870ef962a391'), Link(kind='document', direction='out', tag='f10ba836f290564377550db4d8b5407e'), Link(kind='document', direction='out', tag='7dbb6be332fb377d08d61197256e9d99'), Link(kind='document', direction='out', tag='6df23b4e099287b70b47c07a398052f8'), Link(kind='document', direction='out', tag='76644e57d04167e5c303b076c6c39428'), Link(kind='document', direction='out', tag='767770e3a3d9fc7be6a50dbf83c6f5e2'), Link(kind='document', direction='out', tag='cb44423855fbfbb3d7a5128fe6b2cf61'), Link(kind='document', direction='out', tag='72455dcf55dae63189450d577bdf9cf1'), Link(kind='document', direction='out', tag='483ab260d70eee77fad23ef3098fff2d'), Link(kind='document', direction='out', tag='c24b1aa5b0bafe41b391da4fa36cc5d0'), Link(kind='document', direction='out', tag='e368bcf41fb7aecc7ea19782ae6c1ff9'), Link(kind='document', direction='out', tag='622108046df1db1866f12e2ab4f3d216'), Link(kind='document', direction='out', tag='ee360f23984ec52fe4d42f09919316d4'), Link(kind='document', direction='out', tag='3f9792cb8f69907159ba492fcbed0a1f'), Link(kind='document', direction='out', tag='6cf936758a93d6b3812f7d078a1130f7'), Link(kind='document', direction='out', tag='2755983ec67358a902cce7f51292c3f8'), Link(kind='document', direction='out', tag='d120a8128e3fbe31a1c793ebfbd2cb7f'), Link(kind='document', direction='out', tag='e863ffc9fcb1e7052344a64b038e0a3c'), Link(kind='document', direction='out', tag='d7f6b34a7d2cff15b08c64ee3e732086'), Link(kind='document', direction='out', tag='ef6f58f4995214ec5932cdc9bd057302'), Link(kind='document', direction='out', tag='ae07dacfb826f23252395e13397dbb9a'), Link(kind='document', direction='out', tag='261ce1f353304e8a398209b558a6247f'), Link(kind='document', direction='out', tag='a7f5fd977c80d61d08ea685354f06dbb'), Link(kind='document', direction='out', tag='ef03c6fa6f618863fc9f8e81f2bc4817'), Link(kind='document', direction='out', tag='95d9e5dc6161d5e60a867223ec274c6a'), Link(kind='document', direction='out', tag='fbe229b6d3efe0264e3a148dc20cb26d'), Link(kind='document', direction='out', tag='0f568fe3bbee4ba03b28f75d02c84bd1'), Link(kind='document', direction='out', tag='883ee85da612e02567dc3b50f414ca29'), Link(kind='document', direction='out', tag='17f08687ed7186bf983580f5a23d6a9a'), Link(kind='document', direction='out', tag='1af89f63ad88739e845531d9308e24ce'), Link(kind='document', direction='out', tag='728f30f43c90ceb3abeafc2fdf83dcb8'), Link(kind='document', direction='out', tag='cf8acb0509f757e4704b62b88b304f4c'), Link(kind='document', direction='out', tag='2e69f4bb35910a7fe085a685b2dcc981'), Link(kind='document', direction='out', tag='570b0a09b38dcc625e3350593abd0f49'), Link(kind='document', direction='out', tag='4df7c63998bff76391fa35d8eddbd652'), Link(kind='document', direction='out', tag='73a11e721dfb399ab6d57193ef00bbbe'), Link(kind='document', direction='out', tag='72408d3681078ba13cd2bd8d654ef2ac'), Link(kind='document', direction='out', tag='c6150cf09ba328a58f0504840e88ce38'), Link(kind='document', direction='out', tag='9a988406d5cb7bc6533d1fe15c0858b5'), Link(kind='document', direction='out', tag='2d472d048bfde5c043e5e6c27ff660f2'), Link(kind='document', direction='out', tag='8fdffdf9e3d7026903ec3195520f171a'), Link(kind='document', direction='out', tag='f5a323b6bdcf81f8a8cbb924ca517b73'), Link(kind='document', direction='out', tag='7836e846c12a0f4a2a71776a3ba611fd'), Link(kind='document', direction='out', tag='ba4d96cb3330dfe8f3ccb7e1b5047461'), Link(kind='document', direction='out', tag='913e06ca63fa8cf6d94311bf94f18ce8'), Link(kind='document', direction='out', tag='06967b31e232d16300326d9776b021c5'), Link(kind='document', direction='out', tag='4f9d78fc302c33b38017d5f32748d1a5'), Link(kind='document', direction='out', tag='d4c32c80f13605583b926652acd09136'), Link(kind='document', direction='out', tag='174f0de9d2bb976e131f557dcf5b7a51'), Link(kind='document', direction='out', tag='d285cb1bd7a02e0fa21aed4f2df79be3'), Link(kind='document', direction='out', tag='a97d6cae32ee4fb8d21c196efa244e69'), Link(kind='document', direction='out', tag='42d26b7d297c393b7bda55210404f8c1'), Link(kind='document', direction='out', tag='42318f901b1a5a2e174d26de2021c2d5'), Link(kind='document', direction='out', tag='4b473543cb7f52a5135e97d10737351a'), Link(kind='document', direction='out', tag='0db7735aff5fa3d5546fa9f49ed6c2f4'), Link(kind='document', direction='out', tag='9aa554cd85b94dc3b895a574f22a1e13'), Link(kind='document', direction='out', tag='98d0ac0f313571ba2bcc15f552caacec'), Link(kind='document', direction='out', tag='0777dbb0e00ba0c25fd6d08cc5e3ed44'), Link(kind='document', direction='out', tag='7562803ee7b3f063f5b47fd5f9881150'), Link(kind='document', direction='out', tag='21d0240fa0820650188a634a41942696'), Link(kind='document', direction='out', tag='7a1a1b6dcbb68d0569555ab28080a049'), Link(kind='document', direction='out', tag='b491734aa46583f458eb17445c7af374'), Link(kind='document', direction='out', tag='25de17e3cb2f342f87be7d1c856976fa'), Link(kind='document', direction='out', tag='9128b2400a099938619308b7d1d68591'), Link(kind='document', direction='out', tag='9d3f31ee394e2f49f83d5c32a95cf2a9'), Link(kind='document', direction='out', tag='f42f3205e45854d9e90ca7005944996d'), Link(kind='document', direction='out', tag='559c6e973f1bf7c7f51a3acf6c663096'), Link(kind='document', direction='out', tag='52e6fe14bff1fbe2f58537df1f146ea9'), Link(kind='document', direction='out', tag='522f01c5e39e7b66360aecd47cc484ee')]}\n"
     ]
    },
    {
     "name": "stderr",
     "output_type": "stream",
     "text": [
      "2024-10-23 11:04:16,618 - httpx - INFO - HTTP Request: POST https://api.openai.com/v1/embeddings \"HTTP/1.1 200 OK\"\n"
     ]
    },
    {
     "name": "stdout",
     "output_type": "stream",
     "text": [
      "page_content='Morgan Stanley | esearcs' metadata={'type': 'section', 'links': [Link(kind='section', direction='out', tag='7c0b21986ecd138b750a748b98649e0d'), Link(kind='section', direction='out', tag='304702ef6f9468402bc3bd218f8e9bec')]}\n",
      "page_content='August 1, 2018 02:18 AM GMT' metadata={'type': 'narravite_text', 'links': []}\n"
     ]
    },
    {
     "name": "stderr",
     "output_type": "stream",
     "text": [
      "2024-10-23 11:04:17,012 - httpx - INFO - HTTP Request: POST https://api.openai.com/v1/embeddings \"HTTP/1.1 200 OK\"\n"
     ]
    },
    {
     "name": "stdout",
     "output_type": "stream",
     "text": [
      "page_content='Apple, Inc.' metadata={'type': 'narravite_text', 'links': []}\n"
     ]
    },
    {
     "name": "stderr",
     "output_type": "stream",
     "text": [
      "2024-10-23 11:04:17,816 - httpx - INFO - HTTP Request: POST https://api.openai.com/v1/embeddings \"HTTP/1.1 200 OK\"\n",
      "2024-10-23 11:04:18,188 - httpx - INFO - HTTP Request: POST https://api.openai.com/v1/embeddings \"HTTP/1.1 200 OK\"\n"
     ]
    },
    {
     "name": "stdout",
     "output_type": "stream",
     "text": [
      "page_content='A Clean Beat on the Path to $1 Trillion' metadata={'type': 'section', 'links': [Link(kind='section', direction='out', tag='28c28dfb19e2c3395273226487050e86')]}\n",
      "page_content='Stock Rating Overweight' metadata={'type': 'narravite_text', 'links': []}\n"
     ]
    },
    {
     "name": "stderr",
     "output_type": "stream",
     "text": [
      "2024-10-23 11:04:18,495 - httpx - INFO - HTTP Request: POST https://api.openai.com/v1/embeddings \"HTTP/1.1 200 OK\"\n",
      "2024-10-23 11:04:18,775 - httpx - INFO - HTTP Request: POST https://api.openai.com/v1/embeddings \"HTTP/1.1 200 OK\"\n"
     ]
    },
    {
     "name": "stdout",
     "output_type": "stream",
     "text": [
      "page_content='Industry View' metadata={'type': 'section', 'links': []}\n",
      "page_content='Attractive' metadata={'type': 'section', 'links': []}\n"
     ]
    },
    {
     "name": "stderr",
     "output_type": "stream",
     "text": [
      "2024-10-23 11:04:18,984 - httpx - INFO - HTTP Request: POST https://api.openai.com/v1/embeddings \"HTTP/1.1 200 OK\"\n"
     ]
    },
    {
     "name": "stdout",
     "output_type": "stream",
     "text": [
      "page_content='Price Target' metadata={'type': 'section', 'links': [Link(kind='section', direction='out', tag='1f2e366b90960a1e94f1462408105ee6'), Link(kind='section', direction='out', tag='aca27eb7846ba9b85408ffc4bbdae7c2'), Link(kind='section', direction='out', tag='5f8f326063849d700f83a11315575cf9'), Link(kind='section', direction='out', tag='1ec83d14a604d1753029bb2606232b82')]}\n"
     ]
    },
    {
     "name": "stderr",
     "output_type": "stream",
     "text": [
      "2024-10-23 11:04:19,381 - httpx - INFO - HTTP Request: POST https://api.openai.com/v1/embeddings \"HTTP/1.1 200 OK\"\n"
     ]
    },
    {
     "name": "stdout",
     "output_type": "stream",
     "text": [
      "page_content='We see more upside than downside risk to the upcoming iPhone product cycle and a building Services narrative. Even if device revenue growth slows, Services and Wearables can pick up the slack, delivering 7% revenue and 21% EPS growth annually through CY20, supporting our SOTP-driven $232 PT.' metadata={'type': 'narravite_text', 'links': []}\n"
     ]
    },
    {
     "name": "stderr",
     "output_type": "stream",
     "text": [
      "2024-10-23 11:04:19,788 - httpx - INFO - HTTP Request: POST https://api.openai.com/v1/embeddings \"HTTP/1.1 200 OK\"\n"
     ]
    },
    {
     "name": "stdout",
     "output_type": "stream",
     "text": [
      "page_content='Estimates move higher on iPhone ASPs, Services, Wearables. F3Q revenue (+17%' metadata={'type': 'narravite_text', 'links': []}\n"
     ]
    },
    {
     "name": "stderr",
     "output_type": "stream",
     "text": [
      "2024-10-23 11:04:20,211 - httpx - INFO - HTTP Request: POST https://api.openai.com/v1/embeddings \"HTTP/1.1 200 OK\"\n"
     ]
    },
    {
     "name": "stdout",
     "output_type": "stream",
     "text": [
      "page_content='Y/Y) beat expectations largely on iPhone ASPs (+20%) and Services (+31% reported, 28% normalized) with wearables (+37% Y/Y) maintaining momentum from previous quarters. Sept Q guidance also topped expectations and reflects a similar mid teens revenue growth rate for the overall company despite the more difficult compare from a year ago. The combination of a strong macro environment and an increasingly engaged customer base led to double digit growth in all regions on a sell-in basis during the June quarter. After flowing through the stronger results - namely higher F4Q revenue, slightly offset by higher OpEx, plus stronger LT Services and wearables growth - our FY18 EPS increases to $11.75 (from $11.45) and FY19 EPS increases to $14.12 (from $14.00). Our $232 SOTP-driven price target is unchanged after raising our revenue forecast modestly, shifting to CY19, and considering recent multiple compression at Services peers (Facebook, Tencent, Alibaba).' metadata={'type': 'narravite_text', 'links': []}\n"
     ]
    },
    {
     "name": "stderr",
     "output_type": "stream",
     "text": [
      "2024-10-23 11:04:20,509 - httpx - INFO - HTTP Request: POST https://api.openai.com/v1/embeddings \"HTTP/1.1 200 OK\"\n",
      "2024-10-23 11:04:20,764 - httpx - INFO - HTTP Request: POST https://api.openai.com/v1/embeddings \"HTTP/1.1 200 OK\"\n"
     ]
    },
    {
     "name": "stdout",
     "output_type": "stream",
     "text": [
      "page_content='What we learned from Apple's F3Q18 earnings:' metadata={'type': 'narravite_text', 'links': []}\n"
     ]
    },
    {
     "name": "stderr",
     "output_type": "stream",
     "text": [
      "2024-10-23 11:04:21,018 - httpx - INFO - HTTP Request: POST https://api.openai.com/v1/embeddings \"HTTP/1.1 200 OK\"\n"
     ]
    },
    {
     "name": "stdout",
     "output_type": "stream",
     "text": [
      "page_content='(+) Services narrative gains momentum with references to strong pipeline of' metadata={'type': 'section', 'links': [Link(kind='section', direction='out', tag='4933918ae8d580cfbd1d7fcb266c005f'), Link(kind='section', direction='out', tag='084f6e729b75e8d8edf4c72cf4914447'), Link(kind='section', direction='out', tag='2ba1293c5a6cb69392e73ae7c1df6842')]}\n",
      "page_content='new services. Services revenue grew 31% Y/Y, above consensus expectations of 26% Y/Y and more in-line with our 32% Y/Y forecast. However, backing out a $236M one-time legal benefit implies 28% Y/Y normalized growth. In the June quarter, paid subscriptions to Apple Services topped 300M users (+60% Y/Y) and the App Store, AppleCare, Apple Music, iCloud and Apple Pay all set new June quarterly revenue records. For the App Store, results were even more impressive when considering the Chinese government reportedly slowed the process of new app approvals in the quarter (China is biggest App Store country in the world), although approvals appear to be accelerating in recent weeks. Importantly, management expressed enthusiasm for upcoming \"new\" Services and, for the first time, provided some color on Apple's personnel and partnership investments in original video content, noting they \"aren't really ready to share the details about it yet.\"' metadata={'type': 'narravite_text', 'links': []}\n"
     ]
    },
    {
     "name": "stderr",
     "output_type": "stream",
     "text": [
      "2024-10-23 11:04:21,683 - httpx - INFO - HTTP Request: POST https://api.openai.com/v1/embeddings \"HTTP/1.1 200 OK\"\n",
      "2024-10-23 11:04:22,032 - httpx - INFO - HTTP Request: POST https://api.openai.com/v1/embeddings \"HTTP/1.1 200 OK\"\n"
     ]
    },
    {
     "name": "stdout",
     "output_type": "stream",
     "text": [
      "page_content='(+) Other Products contribution growing with success of AirPods and Watch.' metadata={'type': 'narravite_text', 'links': []}\n"
     ]
    },
    {
     "name": "stderr",
     "output_type": "stream",
     "text": [
      "2024-10-23 11:04:22,267 - httpx - INFO - HTTP Request: POST https://api.openai.com/v1/embeddings \"HTTP/1.1 200 OK\"\n"
     ]
    },
    {
     "name": "stdout",
     "output_type": "stream",
     "text": [
      "page_content='UPDATE' metadata={'type': 'image', 'links': []}\n"
     ]
    },
    {
     "name": "stderr",
     "output_type": "stream",
     "text": [
      "2024-10-23 11:04:22,469 - httpx - INFO - HTTP Request: POST https://api.openai.com/v1/embeddings \"HTTP/1.1 200 OK\"\n"
     ]
    },
    {
     "name": "stdout",
     "output_type": "stream",
     "text": [
      "page_content='UPDATE' metadata={'type': 'section', 'links': []}\n",
      "page_content='MORGAN STANLEY & CO. LLC' metadata={'type': 'section', 'links': [Link(kind='section', direction='out', tag='134823b703624e7de75a8c6f13d99d97'), Link(kind='section', direction='out', tag='5e41e0cc6e30937c5f68a7fb42ad8048'), Link(kind='section', direction='out', tag='7168c894d835fb32ad47a38242ba5fc5')]}\n"
     ]
    },
    {
     "name": "stderr",
     "output_type": "stream",
     "text": [
      "2024-10-23 11:04:22,822 - httpx - INFO - HTTP Request: POST https://api.openai.com/v1/embeddings \"HTTP/1.1 200 OK\"\n"
     ]
    },
    {
     "name": "stdout",
     "output_type": "stream",
     "text": [
      "page_content='Katy L. Huberty, CFA EQUITY ANALYST Kathryn.Huberty@morganstanley.com' metadata={'type': 'narravite_text', 'links': []}\n"
     ]
    },
    {
     "name": "stderr",
     "output_type": "stream",
     "text": [
      "2024-10-23 11:04:23,372 - httpx - INFO - HTTP Request: POST https://api.openai.com/v1/embeddings \"HTTP/1.1 200 OK\"\n"
     ]
    },
    {
     "name": "stdout",
     "output_type": "stream",
     "text": [
      "page_content='Erik W Woodring RESEARCH ASSOCIATE Erik.Woodring@morganstanley.com' metadata={'type': 'narravite_text', 'links': []}\n"
     ]
    },
    {
     "name": "stderr",
     "output_type": "stream",
     "text": [
      "2024-10-23 11:04:23,726 - httpx - INFO - HTTP Request: POST https://api.openai.com/v1/embeddings \"HTTP/1.1 200 OK\"\n"
     ]
    },
    {
     "name": "stdout",
     "output_type": "stream",
     "text": [
      "page_content='Elizabeth Elliott, CFA RESEARCH ASSOCIATE Elizabeth.Elliott@morganstanley.com' metadata={'type': 'narravite_text', 'links': []}\n"
     ]
    },
    {
     "name": "stderr",
     "output_type": "stream",
     "text": [
      "2024-10-23 11:04:24,194 - httpx - INFO - HTTP Request: POST https://api.openai.com/v1/embeddings \"HTTP/1.1 200 OK\"\n"
     ]
    },
    {
     "name": "stdout",
     "output_type": "stream",
     "text": [
      "page_content='Apple, Inc. ( AAPL.O, AAPL US )' metadata={'type': 'section', 'links': []}\n"
     ]
    },
    {
     "name": "stderr",
     "output_type": "stream",
     "text": [
      "2024-10-23 11:04:24,458 - httpx - INFO - HTTP Request: POST https://api.openai.com/v1/embeddings \"HTTP/1.1 200 OK\"\n"
     ]
    },
    {
     "name": "stdout",
     "output_type": "stream",
     "text": [
      "page_content='IT Hardware / United States of America' metadata={'type': 'section', 'links': [Link(kind='section', direction='out', tag='0f2f44f3fd048243075707d5b62586a0'), Link(kind='section', direction='out', tag='07284aabfcdb8c7b15f997c6a607e6ff'), Link(kind='section', direction='out', tag='7e619ca22122ae6790b70c7f14a45913')]}\n"
     ]
    },
    {
     "name": "stderr",
     "output_type": "stream",
     "text": [
      "2024-10-23 11:04:24,773 - httpx - INFO - HTTP Request: POST https://api.openai.com/v1/embeddings \"HTTP/1.1 200 OK\"\n",
      "2024-10-23 11:04:25,003 - httpx - INFO - HTTP Request: POST https://api.openai.com/v1/embeddings \"HTTP/1.1 200 OK\"\n"
     ]
    },
    {
     "name": "stdout",
     "output_type": "stream",
     "text": [
      "page_content='Stock Rating Overweight Industry View Attractive Price target $232.00 Shr price, close (Jul 31, 2018) $190.29 Mkt cap, curr (mm) $929,948 52-Week Range $195.96-148.13 Fiscal Year Ending 09/17 09/18e 09/17 09/18e 09/19e 09/19e 09/20e 09/20e ModelWare EPS ($) 9.21 11.75 14.12 16.49 Prior ModelWare EPS - 11.45 14.00 16.06 ($) P/E 16.7 16.2 13.5 11.5 Consensus EPS ($)§ 9.00 11.48 13.29 14.82 Div yld (%) 1.6 1.5 1.6 1.8' metadata={'type': 'table', 'links': []}\n",
      "page_content='Unless otherwise noted, all metrics are based on Morgan Stanley ModelWare framework' metadata={'type': 'narravite_text', 'links': []}\n"
     ]
    },
    {
     "name": "stderr",
     "output_type": "stream",
     "text": [
      "2024-10-23 11:04:25,316 - httpx - INFO - HTTP Request: POST https://api.openai.com/v1/embeddings \"HTTP/1.1 200 OK\"\n",
      "2024-10-23 11:04:25,596 - httpx - INFO - HTTP Request: POST https://api.openai.com/v1/embeddings \"HTTP/1.1 200 OK\"\n"
     ]
    },
    {
     "name": "stdout",
     "output_type": "stream",
     "text": [
      "page_content='§ = Consensus data is provided by Thomson Reuters Estimates e = Morgan Stanley Research estimates' metadata={'type': 'narravite_text', 'links': []}\n"
     ]
    },
    {
     "name": "stderr",
     "output_type": "stream",
     "text": [
      "2024-10-23 11:04:25,851 - httpx - INFO - HTTP Request: POST https://api.openai.com/v1/embeddings \"HTTP/1.1 200 OK\"\n"
     ]
    },
    {
     "name": "stdout",
     "output_type": "stream",
     "text": [
      "page_content='QUARTERLY MODELWARE EPS ($)' metadata={'type': 'section', 'links': [Link(kind='section', direction='out', tag='f02a4e9f4f9cf0b753dfefeb1803dffe'), Link(kind='section', direction='out', tag='3f6c0766f7e0b73f820cfe7d6a5c5d9b'), Link(kind='section', direction='out', tag='cddcd0cecce2e384e3f2d91e7fd14926'), Link(kind='section', direction='out', tag='e4ed96327dbcc2a158bd82a63ab8ee14')]}\n",
      "page_content='2018e 2018e 2019e 2019e Quarter 2017 Prior Current Prior Current Q1 3.36 - 3.89a 4.56 4.56 Q2 2.10 - 2.73a 3.45 3.37 Q3 1.67 - 2.34a 2.71 2.80 Q4 2.07 2.61 2.75 3.22 3.34' metadata={'type': 'table', 'links': []}\n"
     ]
    },
    {
     "name": "stderr",
     "output_type": "stream",
     "text": [
      "2024-10-23 11:04:26,651 - httpx - INFO - HTTP Request: POST https://api.openai.com/v1/embeddings \"HTTP/1.1 200 OK\"\n",
      "2024-10-23 11:04:26,894 - httpx - INFO - HTTP Request: POST https://api.openai.com/v1/embeddings \"HTTP/1.1 200 OK\"\n"
     ]
    },
    {
     "name": "stdout",
     "output_type": "stream",
     "text": [
      "page_content='e = Morgan Stanley Research estimates, a = Actual Company reported data' metadata={'type': 'narravite_text', 'links': []}\n",
      "page_content='Morgan Stanley does and seeks to do business with companies covered in Morgan Stanley Research. As a result, investors should be aware that the firm may have a conflict of interest that could affect the objectivity of Morgan Stanley Research. Investors should consider Morgan Stanley Research as only a single factor in making their investment decision.' metadata={'type': 'narravite_text', 'links': []}\n"
     ]
    },
    {
     "name": "stderr",
     "output_type": "stream",
     "text": [
      "2024-10-23 11:04:27,657 - httpx - INFO - HTTP Request: POST https://api.openai.com/v1/embeddings \"HTTP/1.1 200 OK\"\n"
     ]
    },
    {
     "name": "stdout",
     "output_type": "stream",
     "text": [
      "page_content='For analyst certification and other important disclosures, refer to the Disclosure Section, located at the end of this report.' metadata={'type': 'narravite_text', 'links': []}\n"
     ]
    },
    {
     "name": "stderr",
     "output_type": "stream",
     "text": [
      "2024-10-23 11:04:28,093 - httpx - INFO - HTTP Request: POST https://api.openai.com/v1/embeddings \"HTTP/1.1 200 OK\"\n"
     ]
    },
    {
     "name": "stdout",
     "output_type": "stream",
     "text": [
      "page_content='Morgan Stanley | esearcs' metadata={'type': 'section', 'links': [Link(kind='section', direction='out', tag='f503a7cb51685c494af41308ec576200')]}\n"
     ]
    },
    {
     "name": "stderr",
     "output_type": "stream",
     "text": [
      "2024-10-23 11:04:28,446 - httpx - INFO - HTTP Request: POST https://api.openai.com/v1/embeddings \"HTTP/1.1 200 OK\"\n"
     ]
    },
    {
     "name": "stdout",
     "output_type": "stream",
     "text": [
      "page_content='Other Products grew 37% Y/Y in the June quarter, in-line with growth in the last 3 quarters, accounting for 13% of Apple's Y/Y revenue growth. Apple Watch on its own grew mid-40% Y/Y while Apple Watch, AirPods and Beats products together grew 60% Y/Y. It is becoming increasingly clear that users view these products as important complements to their iPhone, and we believe they are successfully broadening the Apple ecosystem and increasing customer stickiness (and spend) to the platform. With WatchOS 5 launching to the public this fall plus the expectation for an update to the AirPods by year end, we see Other Products continuing to grow at a strong double digit rate over a multi-year period.' metadata={'type': 'narravite_text', 'links': []}\n"
     ]
    },
    {
     "name": "stderr",
     "output_type": "stream",
     "text": [
      "2024-10-23 11:04:28,946 - httpx - INFO - HTTP Request: POST https://api.openai.com/v1/embeddings \"HTTP/1.1 200 OK\"\n"
     ]
    },
    {
     "name": "stdout",
     "output_type": "stream",
     "text": [
      "page_content='(+) Guidance better on broad-based growth and upcoming product cycle.' metadata={'type': 'section', 'links': [Link(kind='section', direction='out', tag='d2093007e2025d10311a10096cef06d4'), Link(kind='section', direction='out', tag='3f997d83f83161c82adaafda38668919'), Link(kind='section', direction='out', tag='232ab35aacee7e3c63768437ffe11495'), Link(kind='section', direction='out', tag='904a4cc8d95729489d4cbdb7a414b9c0')]}\n"
     ]
    },
    {
     "name": "stderr",
     "output_type": "stream",
     "text": [
      "2024-10-23 11:04:29,346 - httpx - INFO - HTTP Request: POST https://api.openai.com/v1/embeddings \"HTTP/1.1 200 OK\"\n"
     ]
    },
    {
     "name": "stdout",
     "output_type": "stream",
     "text": [
      "page_content='September quarter revenue guidance of $60-62B was 5% higher than our pre- earnings estimate and 2% higher than consensus coming into the quarter. Importantly, this signals that iPhone, Wearables and Services are expected to continue growing at a strong double digit pace to close out FY18. We increase our Sept Q iPhone shipment estimate to 48.3M units (+3% Y/Y) and increase iPhone ASPs to $720, which would imply largely flat ASPs Q/Q, below historical seasonality of low single digit Q/Q ASP increases. We also model Sept Q Services growth of 18% Y/Y, which represents 28% Y/Y normalized growth when backing out the $640M favorable one-timer from F4Q17 results. Net, our Sept Q revenue estimate increases to $61.0B (from $58.2B prior). With flat gross margin and seasonal OpEx growth, our FY4Q EPS increases to $2.75, from $2.61 previously.' metadata={'type': 'narravite_text', 'links': []}\n"
     ]
    },
    {
     "name": "stderr",
     "output_type": "stream",
     "text": [
      "2024-10-23 11:04:29,779 - httpx - INFO - HTTP Request: POST https://api.openai.com/v1/embeddings \"HTTP/1.1 200 OK\"\n",
      "2024-10-23 11:04:30,039 - httpx - INFO - HTTP Request: POST https://api.openai.com/v1/embeddings \"HTTP/1.1 200 OK\"\n"
     ]
    },
    {
     "name": "stdout",
     "output_type": "stream",
     "text": [
      "page_content='(+/-) Gross margins only in-line despite NAND and Services tailwinds. We picked' metadata={'type': 'narravite_text', 'links': []}\n",
      "page_content='up a fair amount of investor excitement into the quarter around potential gross margin upside as NAND prices fall. However, the impact is somewhat delayed due to inventory of higher priced NAND on Apple's balance sheet, which came down by $1.7B in June. Looking forward, we see potential upside from falling NAND prices (NAND was a 60bps Y/Y headwind to GM in June but flat Q/Q) but a 30bps FX headwind will offset some of this upside in September. Importantly, a stable gross margin outlook puts to rest any concerns that Apple will meaningfully change its iPhone pricing strategy to chase unit demand in the upcoming iPhone product cycle.' metadata={'type': 'narravite_text', 'links': []}\n"
     ]
    },
    {
     "name": "stderr",
     "output_type": "stream",
     "text": [
      "2024-10-23 11:04:30,318 - httpx - INFO - HTTP Request: POST https://api.openai.com/v1/embeddings \"HTTP/1.1 200 OK\"\n",
      "2024-10-23 11:04:30,561 - httpx - INFO - HTTP Request: POST https://api.openai.com/v1/embeddings \"HTTP/1.1 200 OK\"\n"
     ]
    },
    {
     "name": "stdout",
     "output_type": "stream",
     "text": [
      "page_content='UPDATE' metadata={'type': 'image', 'links': []}\n",
      "page_content='Morgan Stanley | sesearcs' metadata={'type': 'section', 'links': [Link(kind='section', direction='out', tag='7dc126ca24196f71e2a641a7cdb3006d')]}\n"
     ]
    },
    {
     "name": "stderr",
     "output_type": "stream",
     "text": [
      "2024-10-23 11:04:30,955 - httpx - INFO - HTTP Request: POST https://api.openai.com/v1/embeddings \"HTTP/1.1 200 OK\"\n"
     ]
    },
    {
     "name": "stdout",
     "output_type": "stream",
     "text": [
      "page_content='UPDATE' metadata={'type': 'image', 'links': []}\n"
     ]
    },
    {
     "name": "stderr",
     "output_type": "stream",
     "text": [
      "2024-10-23 11:04:31,396 - httpx - INFO - HTTP Request: POST https://api.openai.com/v1/embeddings \"HTTP/1.1 200 OK\"\n"
     ]
    },
    {
     "name": "stdout",
     "output_type": "stream",
     "text": [
      "page_content='Exhibits' metadata={'type': 'section', 'links': [Link(kind='section', direction='out', tag='3e2fbf10f21400001e6217917fe7a3cf')]}\n"
     ]
    },
    {
     "name": "stderr",
     "output_type": "stream",
     "text": [
      "2024-10-23 11:04:31,961 - httpx - INFO - HTTP Request: POST https://api.openai.com/v1/embeddings \"HTTP/1.1 200 OK\"\n",
      "2024-10-23 11:04:32,259 - httpx - INFO - HTTP Request: POST https://api.openai.com/v1/embeddings \"HTTP/1.1 200 OK\"\n"
     ]
    },
    {
     "name": "stdout",
     "output_type": "stream",
     "text": [
      "page_content='Exhibit 1: While Apple balance sheet inventory fell, the combination of Apple Inventory and Vendor Non-Trade Receivables reached $18.2B in the June quarter, up 36% Y/Y.' metadata={'type': 'narravite_text', 'links': []}\n",
      "page_content='mam ==Y/Y' metadata={'type': 'section', 'links': []}\n"
     ]
    },
    {
     "name": "stderr",
     "output_type": "stream",
     "text": [
      "2024-10-23 11:04:32,523 - httpx - INFO - HTTP Request: POST https://api.openai.com/v1/embeddings \"HTTP/1.1 200 OK\"\n"
     ]
    },
    {
     "name": "stdout",
     "output_type": "stream",
     "text": [
      "page_content='Total Non-Vendor Trade Receivables and Inventory ($B)' metadata={'type': 'section', 'links': []}\n"
     ]
    },
    {
     "name": "stderr",
     "output_type": "stream",
     "text": [
      "2024-10-23 11:04:32,969 - httpx - INFO - HTTP Request: POST https://api.openai.com/v1/embeddings \"HTTP/1.1 200 OK\"\n"
     ]
    },
    {
     "name": "stdout",
     "output_type": "stream",
     "text": [
      "page_content='Y/Y Growth (RHS)' metadata={'type': 'section', 'links': []}\n"
     ]
    },
    {
     "name": "stderr",
     "output_type": "stream",
     "text": [
      "2024-10-23 11:04:33,402 - httpx - INFO - HTTP Request: POST https://api.openai.com/v1/embeddings \"HTTP/1.1 200 OK\"\n",
      "2024-10-23 11:04:33,830 - httpx - INFO - HTTP Request: POST https://api.openai.com/v1/embeddings \"HTTP/1.1 200 OK\"\n"
     ]
    },
    {
     "name": "stdout",
     "output_type": "stream",
     "text": [
      "page_content='s' metadata={'type': 'section', 'links': []}\n"
     ]
    },
    {
     "name": "stderr",
     "output_type": "stream",
     "text": [
      "2024-10-23 11:04:34,052 - httpx - INFO - HTTP Request: POST https://api.openai.com/v1/embeddings \"HTTP/1.1 200 OK\"\n"
     ]
    },
    {
     "name": "stdout",
     "output_type": "stream",
     "text": [
      "page_content='d' metadata={'type': 'section', 'links': []}\n",
      "page_content='n' metadata={'type': 'section', 'links': []}\n"
     ]
    },
    {
     "name": "stderr",
     "output_type": "stream",
     "text": [
      "2024-10-23 11:04:34,587 - httpx - INFO - HTTP Request: POST https://api.openai.com/v1/embeddings \"HTTP/1.1 200 OK\"\n",
      "2024-10-23 11:04:34,891 - httpx - INFO - HTTP Request: POST https://api.openai.com/v1/embeddings \"HTTP/1.1 200 OK\"\n"
     ]
    },
    {
     "name": "stdout",
     "output_type": "stream",
     "text": [
      "page_content='a' metadata={'type': 'section', 'links': []}\n",
      "page_content='s' metadata={'type': 'section', 'links': []}\n"
     ]
    },
    {
     "name": "stderr",
     "output_type": "stream",
     "text": [
      "2024-10-23 11:04:35,183 - httpx - INFO - HTTP Request: POST https://api.openai.com/v1/embeddings \"HTTP/1.1 200 OK\"\n"
     ]
    },
    {
     "name": "stdout",
     "output_type": "stream",
     "text": [
      "page_content='u' metadata={'type': 'section', 'links': []}\n"
     ]
    },
    {
     "name": "stderr",
     "output_type": "stream",
     "text": [
      "2024-10-23 11:04:35,498 - httpx - INFO - HTTP Request: POST https://api.openai.com/v1/embeddings \"HTTP/1.1 200 OK\"\n"
     ]
    },
    {
     "name": "stdout",
     "output_type": "stream",
     "text": [
      "page_content='o' metadata={'type': 'section', 'links': []}\n"
     ]
    },
    {
     "name": "stderr",
     "output_type": "stream",
     "text": [
      "2024-10-23 11:04:36,275 - httpx - INFO - HTTP Request: POST https://api.openai.com/v1/embeddings \"HTTP/1.1 200 OK\"\n",
      "2024-10-23 11:04:36,575 - httpx - INFO - HTTP Request: POST https://api.openai.com/v1/embeddings \"HTTP/1.1 200 OK\"\n"
     ]
    },
    {
     "name": "stdout",
     "output_type": "stream",
     "text": [
      "page_content='h' metadata={'type': 'section', 'links': []}\n",
      "page_content='T' metadata={'type': 'section', 'links': [Link(kind='section', direction='out', tag='ae53dd980211d65514ccb2aaf0df4511'), Link(kind='section', direction='out', tag='384dbe52f5560d375acc319a32c1fe73'), Link(kind='section', direction='out', tag='3f59301b4bc2dd6639c2410d7792cb2b')]}\n"
     ]
    },
    {
     "name": "stderr",
     "output_type": "stream",
     "text": [
      "2024-10-23 11:04:37,298 - httpx - INFO - HTTP Request: POST https://api.openai.com/v1/embeddings \"HTTP/1.1 200 OK\"\n",
      "2024-10-23 11:04:37,549 - httpx - INFO - HTTP Request: POST https://api.openai.com/v1/embeddings \"HTTP/1.1 200 OK\"\n"
     ]
    },
    {
     "name": "stdout",
     "output_type": "stream",
     "text": [
      "page_content='35  31.9  100%  30  92%  80%  25  46%  22.7  60%  20  15  15.7  16.6  21%  11.9  13.4  45%  15.7  32%  18.2  36%  40%  20%  10  9.2  18%  0%  5  -1%  -20%  0  -21%  -40%  6  6  6  7  7  7  7  8  8  1  1  1  1  1  1  1  1  1  -  n  u  J  -  p  e  S  -  c  e  D  -  r  a  M  -  n  u  J  -  p  e  S  -  c  e  D  -  r  a  M  -  n  u  J ' metadata={'type': 'image', 'links': []}\n",
      "page_content='Source: Company Data, Morgan Stanley Research' metadata={'type': 'figure_caption', 'links': []}\n"
     ]
    },
    {
     "name": "stderr",
     "output_type": "stream",
     "text": [
      "2024-10-23 11:04:37,914 - httpx - INFO - HTTP Request: POST https://api.openai.com/v1/embeddings \"HTTP/1.1 200 OK\"\n",
      "2024-10-23 11:04:38,129 - httpx - INFO - HTTP Request: POST https://api.openai.com/v1/embeddings \"HTTP/1.1 200 OK\"\n"
     ]
    },
    {
     "name": "stdout",
     "output_type": "stream",
     "text": [
      "page_content='Exhibit 2: We see Other Products (wearables) and Services contributing 86% of Apple revenue growth over the next 5 years vs. just 26% on a trailing 5 year basis.' metadata={'type': 'narravite_text', 'links': []}\n",
      "page_content='Contribution to Apple Revenue Growth' metadata={'type': 'section', 'links': [Link(kind='section', direction='out', tag='f842e1132a1961645fa74c8b07fd59ad'), Link(kind='section', direction='out', tag='495591aaae48089bb1d7a683aecce5df')]}\n"
     ]
    },
    {
     "name": "stderr",
     "output_type": "stream",
     "text": [
      "2024-10-23 11:04:38,429 - httpx - INFO - HTTP Request: POST https://api.openai.com/v1/embeddings \"HTTP/1.1 200 OK\"\n",
      "2024-10-23 11:04:38,684 - httpx - INFO - HTTP Request: POST https://api.openai.com/v1/embeddings \"HTTP/1.1 200 OK\"\n"
     ]
    },
    {
     "name": "stdout",
     "output_type": "stream",
     "text": [
      "page_content='140%  Other Products  Services  Mac  iPad  iPhone  120%  3%  100%  80%  23%  4%  24%  60%  40%  86%  62%  20%  0%  -16%  18%  -2%  -20%  -40%  FY17 vs. FY12  FY22 vs. FY17 ' metadata={'type': 'image', 'links': []}\n"
     ]
    },
    {
     "name": "stderr",
     "output_type": "stream",
     "text": [
      "2024-10-23 11:04:38,894 - httpx - INFO - HTTP Request: POST https://api.openai.com/v1/embeddings \"HTTP/1.1 200 OK\"\n"
     ]
    },
    {
     "name": "stdout",
     "output_type": "stream",
     "text": [
      "page_content='Source: Company Data, Morgan Stanley Research' metadata={'type': 'narravite_text', 'links': []}\n",
      "page_content='Morgan Stanley | sesearcs' metadata={'type': 'section', 'links': [Link(kind='section', direction='out', tag='2db82a0e67ffd743fcd091f8ba248d06')]}\n"
     ]
    },
    {
     "name": "stderr",
     "output_type": "stream",
     "text": [
      "2024-10-23 11:04:39,590 - httpx - INFO - HTTP Request: POST https://api.openai.com/v1/embeddings \"HTTP/1.1 200 OK\"\n"
     ]
    },
    {
     "name": "stdout",
     "output_type": "stream",
     "text": [
      "page_content='UPDATE' metadata={'type': 'image', 'links': []}\n"
     ]
    },
    {
     "name": "stderr",
     "output_type": "stream",
     "text": [
      "2024-10-23 11:04:40,013 - httpx - INFO - HTTP Request: POST https://api.openai.com/v1/embeddings \"HTTP/1.1 200 OK\"\n"
     ]
    },
    {
     "name": "stdout",
     "output_type": "stream",
     "text": [
      "page_content='Exhibit 3: Our sum-of-the-parts (SOTP) analysis drives our Apple price target of $232 (unchanged), which represents 15.7x CY19 EPS.' metadata={'type': 'narravite_text', 'links': []}\n"
     ]
    },
    {
     "name": "stderr",
     "output_type": "stream",
     "text": [
      "2024-10-23 11:04:40,313 - httpx - INFO - HTTP Request: POST https://api.openai.com/v1/embeddings \"HTTP/1.1 200 OK\"\n",
      "2024-10-23 11:04:40,549 - httpx - INFO - HTTP Request: POST https://api.openai.com/v1/embeddings \"HTTP/1.1 200 OK\"\n"
     ]
    },
    {
     "name": "stdout",
     "output_type": "stream",
     "text": [
      "page_content='n/a' metadata={'type': None, 'links': [Link(kind=None, direction='out', tag='e201b35d7eaeae9eebf457cc1f623bb5')]}\n"
     ]
    },
    {
     "name": "stderr",
     "output_type": "stream",
     "text": [
      "2024-10-23 11:04:40,777 - httpx - INFO - HTTP Request: POST https://api.openai.com/v1/embeddings \"HTTP/1.1 200 OK\"\n"
     ]
    },
    {
     "name": "stdout",
     "output_type": "stream",
     "text": [
      "page_content='Apple Base Case SOTP ($B)' metadata={'type': 'section', 'links': []}\n"
     ]
    },
    {
     "name": "stderr",
     "output_type": "stream",
     "text": [
      "2024-10-23 11:04:40,998 - httpx - INFO - HTTP Request: POST https://api.openai.com/v1/embeddings \"HTTP/1.1 200 OK\"\n"
     ]
    },
    {
     "name": "stdout",
     "output_type": "stream",
     "text": [
      "page_content='EV / Sales Methodology' metadata={'type': 'section', 'links': [Link(kind='section', direction='out', tag='e169bfd5feb2c34c793da5e487242d14')]}\n",
      "page_content='CY19E Revenue Multiple EV Hardware 231.2 2.7x $626 Services 50.6 6.4x $323 Total Apple $282 3.4x $949' metadata={'type': 'table', 'links': []}\n"
     ]
    },
    {
     "name": "stderr",
     "output_type": "stream",
     "text": [
      "2024-10-23 11:04:41,348 - httpx - INFO - HTTP Request: POST https://api.openai.com/v1/embeddings \"HTTP/1.1 200 OK\"\n",
      "2024-10-23 11:04:41,716 - httpx - INFO - HTTP Request: POST https://api.openai.com/v1/embeddings \"HTTP/1.1 200 OK\"\n"
     ]
    },
    {
     "name": "stdout",
     "output_type": "stream",
     "text": [
      "page_content='Implied AAPL Enterprise Value ($M)' metadata={'type': 'section', 'links': [Link(kind='section', direction='out', tag='bcfc7e1fbe2e563ec992d82d22df7a4f'), Link(kind='section', direction='out', tag='8bf1df93375db155876efa8cd8fc0830')]}\n",
      "page_content='(+) Cash and Equivalents 210,593 (-) Total Debt 114,600 Equity Value ($M) 1,044,828 Diluted Shares (M) 4,495 Value/Share $ 232.00 Implied CY19 P/E Current Price $ 190.29 Up/Downside' metadata={'type': 'table', 'links': []}\n"
     ]
    },
    {
     "name": "stderr",
     "output_type": "stream",
     "text": [
      "2024-10-23 11:04:42,216 - httpx - INFO - HTTP Request: POST https://api.openai.com/v1/embeddings \"HTTP/1.1 200 OK\"\n"
     ]
    },
    {
     "name": "stdout",
     "output_type": "stream",
     "text": [
      "page_content='Source: Thomson Reuters, Morgan Stanley Research' metadata={'type': 'narravite_text', 'links': []}\n"
     ]
    },
    {
     "name": "stderr",
     "output_type": "stream",
     "text": [
      "2024-10-23 11:04:42,624 - httpx - INFO - HTTP Request: POST https://api.openai.com/v1/embeddings \"HTTP/1.1 200 OK\"\n"
     ]
    },
    {
     "name": "stdout",
     "output_type": "stream",
     "text": [
      "page_content='Morgan Stanley | esearcs' metadata={'type': 'section', 'links': [Link(kind='section', direction='out', tag='5fc0bc6d6cdc533dcb004f5eb918f4f6')]}\n"
     ]
    },
    {
     "name": "stderr",
     "output_type": "stream",
     "text": [
      "2024-10-23 11:04:43,137 - httpx - INFO - HTTP Request: POST https://api.openai.com/v1/embeddings \"HTTP/1.1 200 OK\"\n"
     ]
    },
    {
     "name": "stdout",
     "output_type": "stream",
     "text": [
      "page_content='UPDATE' metadata={'type': 'image', 'links': []}\n"
     ]
    },
    {
     "name": "stderr",
     "output_type": "stream",
     "text": [
      "2024-10-23 11:04:43,546 - httpx - INFO - HTTP Request: POST https://api.openai.com/v1/embeddings \"HTTP/1.1 200 OK\"\n",
      "2024-10-23 11:04:43,764 - httpx - INFO - HTTP Request: POST https://api.openai.com/v1/embeddings \"HTTP/1.1 200 OK\"\n"
     ]
    },
    {
     "name": "stdout",
     "output_type": "stream",
     "text": [
      "page_content='UPDATE' metadata={'type': 'section', 'links': []}\n"
     ]
    },
    {
     "name": "stderr",
     "output_type": "stream",
     "text": [
      "2024-10-23 11:04:43,988 - httpx - INFO - HTTP Request: POST https://api.openai.com/v1/embeddings \"HTTP/1.1 200 OK\"\n"
     ]
    },
    {
     "name": "stdout",
     "output_type": "stream",
     "text": [
      "page_content='AAPL Risk Reward' metadata={'type': 'section', 'links': [Link(kind='section', direction='out', tag='241cb517f27903848308e713a1f08fb6'), Link(kind='section', direction='out', tag='c6c837194efdeb10c94491a12f537b00'), Link(kind='section', direction='out', tag='d735189d0b8e1986fcf9d6b442069a4f')]}\n"
     ]
    },
    {
     "name": "stderr",
     "output_type": "stream",
     "text": [
      "2024-10-23 11:04:44,214 - httpx - INFO - HTTP Request: POST https://api.openai.com/v1/embeddings \"HTTP/1.1 200 OK\"\n"
     ]
    },
    {
     "name": "stdout",
     "output_type": "stream",
     "text": [
      "page_content='Growth Contribution from Services Underappreciated by Investors' metadata={'type': 'narravite_text', 'links': []}\n",
      "page_content='$  400  350  300  $335.00 (+76%)  250  200  $190.29  $232.00 (+22%)  150  $145.00 (-24%)  100  50  0  Jul-16  Jan-17  Price Target (Jul-19)  Jul-17  Jan-18  Historical Stock Performance  Jul-18  Jan-19  Current Stock Price  Jul-19  WARNINGDONOTEDIT_RRS4RL~AAPL.O~ ' metadata={'type': 'image', 'links': []}\n"
     ]
    },
    {
     "name": "stderr",
     "output_type": "stream",
     "text": [
      "2024-10-23 11:04:44,877 - httpx - INFO - HTTP Request: POST https://api.openai.com/v1/embeddings \"HTTP/1.1 200 OK\"\n",
      "2024-10-23 11:04:45,235 - httpx - INFO - HTTP Request: POST https://api.openai.com/v1/embeddings \"HTTP/1.1 200 OK\"\n"
     ]
    },
    {
     "name": "stdout",
     "output_type": "stream",
     "text": [
      "page_content='Source: Thomson Reuters, Morgan Stanley Research' metadata={'type': 'figure_caption', 'links': []}\n",
      "page_content='Price Target $232$232' metadata={'type': 'section', 'links': [Link(kind='section', direction='out', tag='d1f5c02b713f618c0b2d41be7c63383e')]}\n"
     ]
    },
    {
     "name": "stderr",
     "output_type": "stream",
     "text": [
      "2024-10-23 11:04:45,551 - httpx - INFO - HTTP Request: POST https://api.openai.com/v1/embeddings \"HTTP/1.1 200 OK\"\n"
     ]
    },
    {
     "name": "stdout",
     "output_type": "stream",
     "text": [
      "page_content='Derived from base-case scenario.' metadata={'type': 'narravite_text', 'links': []}\n"
     ]
    },
    {
     "name": "stderr",
     "output_type": "stream",
     "text": [
      "2024-10-23 11:04:45,870 - httpx - INFO - HTTP Request: POST https://api.openai.com/v1/embeddings \"HTTP/1.1 200 OK\"\n"
     ]
    },
    {
     "name": "stdout",
     "output_type": "stream",
     "text": [
      "page_content='BullBull $335$335' metadata={'type': 'section', 'links': []}\n"
     ]
    },
    {
     "name": "stderr",
     "output_type": "stream",
     "text": [
      "2024-10-23 11:04:46,165 - httpx - INFO - HTTP Request: POST https://api.openai.com/v1/embeddings \"HTTP/1.1 200 OK\"\n",
      "2024-10-23 11:04:46,430 - httpx - INFO - HTTP Request: POST https://api.openai.com/v1/embeddings \"HTTP/1.1 200 OK\"\n"
     ]
    },
    {
     "name": "stdout",
     "output_type": "stream",
     "text": [
      "page_content='19.7x Bull Case CY19e EPS of $17.04' metadata={'type': 'section', 'links': []}\n",
      "page_content='Investment Thesis' metadata={'type': 'section', 'links': [Link(kind='section', direction='out', tag='d44c3bf06ac3c41f782d864f22bc1d26')]}\n"
     ]
    },
    {
     "name": "stderr",
     "output_type": "stream",
     "text": [
      "2024-10-23 11:04:46,830 - httpx - INFO - HTTP Request: POST https://api.openai.com/v1/embeddings \"HTTP/1.1 200 OK\"\n"
     ]
    },
    {
     "name": "stdout",
     "output_type": "stream",
     "text": [
      "page_content='Apple has the world's most valuable technology platform with 1.3Bn active devices, and is well positioned to capture more of its users' time in areas such as video, augmented reality, health, autos and home. Accelerated Services growth, margin expansion, and tax reform / cash repatriation are catalysts that can help sustainably re-rate shares.' metadata={'type': 'narravite_text', 'links': []}\n"
     ]
    },
    {
     "name": "stderr",
     "output_type": "stream",
     "text": [
      "2024-10-23 11:04:47,277 - httpx - INFO - HTTP Request: POST https://api.openai.com/v1/embeddings \"HTTP/1.1 200 OK\"\n"
     ]
    },
    {
     "name": "stdout",
     "output_type": "stream",
     "text": [
      "page_content='Key Debates' metadata={'type': 'section', 'links': [Link(kind='section', direction='out', tag='50223d152b6de3c4f51d85e530f1ba13'), Link(kind='section', direction='out', tag='4a7a74329c0d0b9ae76aacacd484871b'), Link(kind='section', direction='out', tag='b767d923accebb78733cbaa08b35d697')]}\n"
     ]
    },
    {
     "name": "stderr",
     "output_type": "stream",
     "text": [
      "2024-10-23 11:04:47,640 - httpx - INFO - HTTP Request: POST https://api.openai.com/v1/embeddings \"HTTP/1.1 200 OK\"\n"
     ]
    },
    {
     "name": "stdout",
     "output_type": "stream",
     "text": [
      "page_content='Can Apple sustainably grow revenue and EPS? Yes, the combination of increased services mix, strong wearables growth, higher share repurchases, potential M&A, and investments in new categories like video, augmented/virtual reality, artificial intelligence, health, and autos are drivers of sustainable growth longer-term.' metadata={'type': 'narravite_text', 'links': []}\n"
     ]
    },
    {
     "name": "stderr",
     "output_type": "stream",
     "text": [
      "2024-10-23 11:04:48,028 - httpx - INFO - HTTP Request: POST https://api.openai.com/v1/embeddings \"HTTP/1.1 200 OK\"\n",
      "2024-10-23 11:04:48,233 - httpx - INFO - HTTP Request: POST https://api.openai.com/v1/embeddings \"HTTP/1.1 200 OK\"\n"
     ]
    },
    {
     "name": "stdout",
     "output_type": "stream",
     "text": [
      "page_content='Services revenue per device accelerates to 10%+ growth annually as Apple converts more users to services customers and launches new AR and original video content. The majority of growth comes from services but hardware grows slightly as replacement cycles level off earlier than in the base case and Apple continues to gain new users in markets like China and India. Gross margins move above 40% due to higher Services revenue mix. Investors focus on monetization of Apple's 1.3B and growing device base and value Apple closer to that of a platform company given the more stable growth trajectory. We assume a ~20x P/E multiple on CY19 EPS of $17.04. Our bull case valuation is supported by SOTP analysis assuming Apple Services garners an EV/Sales multiple in-line with high growth platforms like FB, SNAP, TWTR, and NFLX.' metadata={'type': 'narravite_text', 'links': []}\n",
      "page_content='Can Services growth help re-rate shares? Yes, we believe so. Apple is a structurally different company today than it was just 5 years ago, with a larger cash balance and a Services business that accounts for ~15% of revenue and 22% of gross profit dollars, growing to 27% of revenue and 40% of gross profit dollars by FY22. And we see accelerating Services data points as evidence of this transformation that can act as catalysts to re-rate shares higher.' metadata={'type': 'narravite_text', 'links': []}\n"
     ]
    },
    {
     "name": "stderr",
     "output_type": "stream",
     "text": [
      "2024-10-23 11:04:48,667 - httpx - INFO - HTTP Request: POST https://api.openai.com/v1/embeddings \"HTTP/1.1 200 OK\"\n"
     ]
    },
    {
     "name": "stdout",
     "output_type": "stream",
     "text": [
      "page_content='BaseBase' metadata={'type': 'section', 'links': []}\n"
     ]
    },
    {
     "name": "stderr",
     "output_type": "stream",
     "text": [
      "2024-10-23 11:04:49,159 - httpx - INFO - HTTP Request: POST https://api.openai.com/v1/embeddings \"HTTP/1.1 200 OK\"\n"
     ]
    },
    {
     "name": "stdout",
     "output_type": "stream",
     "text": [
      "page_content='$232$232' metadata={'type': 'section', 'links': []}\n"
     ]
    },
    {
     "name": "stderr",
     "output_type": "stream",
     "text": [
      "2024-10-23 11:04:49,495 - httpx - INFO - HTTP Request: POST https://api.openai.com/v1/embeddings \"HTTP/1.1 200 OK\"\n"
     ]
    },
    {
     "name": "stdout",
     "output_type": "stream",
     "text": [
      "page_content='15.7x Base Case CY19e EPS of $14.77' metadata={'type': 'section', 'links': []}\n"
     ]
    },
    {
     "name": "stderr",
     "output_type": "stream",
     "text": [
      "2024-10-23 11:04:49,818 - httpx - INFO - HTTP Request: POST https://api.openai.com/v1/embeddings \"HTTP/1.1 200 OK\"\n",
      "2024-10-23 11:04:50,039 - httpx - INFO - HTTP Request: POST https://api.openai.com/v1/embeddings \"HTTP/1.1 200 OK\"\n"
     ]
    },
    {
     "name": "stdout",
     "output_type": "stream",
     "text": [
      "page_content='Slowing contribution from iPhone is offset by continued 25%+ services growth with the mix shift to higher margin services and more share repurchases translating to faster, and more sustainable, EPS growth. With longer' metadata={'type': 'section', 'links': [Link(kind='section', direction='out', tag='85af4aadc07ca8411eb9452b72a8f287'), Link(kind='section', direction='out', tag='43c3ed3d0a03d3e38f053a06229c0d9b')]}\n",
      "page_content='replacement cycles in the broader device market translating to flat iPhone units in FY17-20 plus slightly declining ASPs beyond FY18, we see accelerating Services growth combined with increased share buybacks and a lower tax rate driving multiple years of double digit EPS growth. With Services becoming the primary driver of our forward estimates we fully shift to our sum-of-the-parts analysis, which credits Apple's hardware business with a multiple that blends HPQ and MSFT and Apple's services business with the average of 10 consumer platform peers and drives our $232 PT, translating to a 15.7x P/E, slightly higher than Apple's 10-year CY+1 P/E trading range.' metadata={'type': 'narravite_text', 'links': []}\n"
     ]
    },
    {
     "name": "stderr",
     "output_type": "stream",
     "text": [
      "2024-10-23 11:04:50,510 - httpx - INFO - HTTP Request: POST https://api.openai.com/v1/embeddings \"HTTP/1.1 200 OK\"\n",
      "2024-10-23 11:04:50,760 - httpx - INFO - HTTP Request: POST https://api.openai.com/v1/embeddings \"HTTP/1.1 200 OK\"\n"
     ]
    },
    {
     "name": "stdout",
     "output_type": "stream",
     "text": [
      "page_content='Can Apple accelerate innovation? Yes, FY17 was the fifth year in a row that R&D growth outpaced revenue growth, translating to new products and services over time. Over the past three years, Apple spent an incremental $11.6B on R&D compared to less than $1B ahead of iPhone and iPad. This compares to minimal incremental spend at top auto makers (ex-Tesla) and $10.2B of incremental spend at Alphabet on far more projects.' metadata={'type': 'narravite_text', 'links': []}\n"
     ]
    },
    {
     "name": "stderr",
     "output_type": "stream",
     "text": [
      "2024-10-23 11:04:50,972 - httpx - INFO - HTTP Request: POST https://api.openai.com/v1/embeddings \"HTTP/1.1 200 OK\"\n"
     ]
    },
    {
     "name": "stdout",
     "output_type": "stream",
     "text": [
      "page_content='Potential Catalysts' metadata={'type': 'section', 'links': []}\n",
      "page_content='BearBear' metadata={'type': 'section', 'links': []}\n"
     ]
    },
    {
     "name": "stderr",
     "output_type": "stream",
     "text": [
      "2024-10-23 11:04:51,240 - httpx - INFO - HTTP Request: POST https://api.openai.com/v1/embeddings \"HTTP/1.1 200 OK\"\n"
     ]
    },
    {
     "name": "stdout",
     "output_type": "stream",
     "text": [
      "page_content='$145$145' metadata={'type': 'section', 'links': []}\n"
     ]
    },
    {
     "name": "stderr",
     "output_type": "stream",
     "text": [
      "2024-10-23 11:04:51,542 - httpx - INFO - HTTP Request: POST https://api.openai.com/v1/embeddings \"HTTP/1.1 200 OK\"\n",
      "2024-10-23 11:04:51,825 - httpx - INFO - HTTP Request: POST https://api.openai.com/v1/embeddings \"HTTP/1.1 200 OK\"\n"
     ]
    },
    {
     "name": "stdout",
     "output_type": "stream",
     "text": [
      "page_content='11.8x Bear Case CY19e EPS of $12.27' metadata={'type': 'section', 'links': [Link(kind='section', direction='out', tag='9840f0619e21ba449c606c90950d71d3'), Link(kind='section', direction='out', tag='39e8cf6a2166e8931427ac477f857b88'), Link(kind='section', direction='out', tag='9a0917c6807db8437529d6dba9d13bd5'), Link(kind='section', direction='out', tag='d80dd58f65bf8072ba25dce8a2936e5e')]}\n",
      "page_content='Weakening global smartphone market overshadows Services growth, resulting in total company revenue declines and margin pressure. Apple continues to invest in future products and services, driving negative operating leverage, offset by continued share repurchases. Our sum of the parts analysis assumes lower-' metadata={'type': 'narravite_text', 'links': []}\n"
     ]
    },
    {
     "name": "stderr",
     "output_type": "stream",
     "text": [
      "2024-10-23 11:04:52,637 - httpx - INFO - HTTP Request: POST https://api.openai.com/v1/embeddings \"HTTP/1.1 200 OK\"\n"
     ]
    },
    {
     "name": "stdout",
     "output_type": "stream",
     "text": [
      "page_content='Tax reform lowers tax rate and increases cash flexibility' metadata={'type': 'narravite_text', 'links': []}\n"
     ]
    },
    {
     "name": "stderr",
     "output_type": "stream",
     "text": [
      "2024-10-23 11:04:53,479 - httpx - INFO - HTTP Request: POST https://api.openai.com/v1/embeddings \"HTTP/1.1 200 OK\"\n"
     ]
    },
    {
     "name": "stdout",
     "output_type": "stream",
     "text": [
      "page_content='Increasing services mix, driven by increased penetration of the user base and new services.' metadata={'type': 'narravite_text', 'links': []}\n"
     ]
    },
    {
     "name": "stderr",
     "output_type": "stream",
     "text": [
      "2024-10-23 11:04:53,991 - httpx - INFO - HTTP Request: POST https://api.openai.com/v1/embeddings \"HTTP/1.1 200 OK\"\n"
     ]
    },
    {
     "name": "stdout",
     "output_type": "stream",
     "text": [
      "page_content='Rising iPhone ASPs, strong wearables' metadata={'type': 'narravite_text', 'links': []}\n"
     ]
    },
    {
     "name": "stderr",
     "output_type": "stream",
     "text": [
      "2024-10-23 11:04:54,306 - httpx - INFO - HTTP Request: POST https://api.openai.com/v1/embeddings \"HTTP/1.1 200 OK\"\n"
     ]
    },
    {
     "name": "stdout",
     "output_type": "stream",
     "text": [
      "page_content='Morgan Stanley | esearcs' metadata={'type': 'section', 'links': [Link(kind='section', direction='out', tag='0dc72982bb58df85bc30da1f8c596b23'), Link(kind='section', direction='out', tag='a61758a08f72b45d073ecc1d405818ea')]}\n"
     ]
    },
    {
     "name": "stderr",
     "output_type": "stream",
     "text": [
      "2024-10-23 11:04:54,888 - httpx - INFO - HTTP Request: POST https://api.openai.com/v1/embeddings \"HTTP/1.1 200 OK\"\n",
      "2024-10-23 11:04:55,202 - httpx - INFO - HTTP Request: POST https://api.openai.com/v1/embeddings \"HTTP/1.1 200 OK\"\n"
     ]
    },
    {
     "name": "stdout",
     "output_type": "stream",
     "text": [
      "page_content='end of platform multiples, in-line with Google, for Apple Services and a more hardware skewed multiple on Apple's device revenue, implying a roughly 12x P/E, the lower end of where large cap hardware stocks have traded over the last year and significantly below Apple's 10-year average historical P/E.' metadata={'type': 'narravite_text', 'links': []}\n"
     ]
    },
    {
     "name": "stderr",
     "output_type": "stream",
     "text": [
      "2024-10-23 11:04:55,490 - httpx - INFO - HTTP Request: POST https://api.openai.com/v1/embeddings \"HTTP/1.1 200 OK\"\n"
     ]
    },
    {
     "name": "stdout",
     "output_type": "stream",
     "text": [
      "page_content='UPDATE' metadata={'type': 'image', 'links': []}\n"
     ]
    },
    {
     "name": "stderr",
     "output_type": "stream",
     "text": [
      "2024-10-23 11:04:55,716 - httpx - INFO - HTTP Request: POST https://api.openai.com/v1/embeddings \"HTTP/1.1 200 OK\"\n"
     ]
    },
    {
     "name": "stdout",
     "output_type": "stream",
     "text": [
      "page_content='UPDATE' metadata={'type': 'section', 'links': [Link(kind='section', direction='out', tag='afbbd819b8fcb45dce4bdd38ab70df46'), Link(kind='section', direction='out', tag='1db8ff183b859a349a19baf83755f3b4')]}\n",
      "page_content='growth speak to increasing customer engagement and spend and help shift narrative from product cycles to a platform story' metadata={'type': 'narravite_text', 'links': []}\n"
     ]
    },
    {
     "name": "stderr",
     "output_type": "stream",
     "text": [
      "2024-10-23 11:04:56,141 - httpx - INFO - HTTP Request: POST https://api.openai.com/v1/embeddings \"HTTP/1.1 200 OK\"\n"
     ]
    },
    {
     "name": "stdout",
     "output_type": "stream",
     "text": [
      "page_content='Expanding the platform to new industries, for example healthcare, autos or homes, drives “halo effect” across Apple's businesses Expanding points-of-sale, especially in emerging markets like India' metadata={'type': 'narravite_text', 'links': []}\n"
     ]
    },
    {
     "name": "stderr",
     "output_type": "stream",
     "text": [
      "2024-10-23 11:04:57,059 - httpx - INFO - HTTP Request: POST https://api.openai.com/v1/embeddings \"HTTP/1.1 200 OK\"\n",
      "2024-10-23 11:04:57,437 - httpx - INFO - HTTP Request: POST https://api.openai.com/v1/embeddings \"HTTP/1.1 200 OK\"\n"
     ]
    },
    {
     "name": "stdout",
     "output_type": "stream",
     "text": [
      "page_content='Risks to Achieving Price Target' metadata={'type': 'section', 'links': [Link(kind='section', direction='out', tag='32fac3df5609a0e97272037ce93c088f'), Link(kind='section', direction='out', tag='d54b232b2388f6b10b4a4f4eaa69bdec'), Link(kind='section', direction='out', tag='9d802f615eb93ea68fca61b584629bc2'), Link(kind='section', direction='out', tag='fe09f89ff26a5dba59ea9e70462d3f6e'), Link(kind='section', direction='out', tag='06d94c9b8ef0f25652483ccff132dc91')]}\n"
     ]
    },
    {
     "name": "stderr",
     "output_type": "stream",
     "text": [
      "2024-10-23 11:04:57,638 - httpx - INFO - HTTP Request: POST https://api.openai.com/v1/embeddings \"HTTP/1.1 200 OK\"\n"
     ]
    },
    {
     "name": "stdout",
     "output_type": "stream",
     "text": [
      "page_content='Weak global consumer spending or increased price elasticity on the back of higher priced iPhones' metadata={'type': 'narravite_text', 'links': []}\n",
      "page_content='Maturing markets, and Android competition in smartphones and tablets' metadata={'type': 'narravite_text', 'links': []}\n"
     ]
    },
    {
     "name": "stderr",
     "output_type": "stream",
     "text": [
      "2024-10-23 11:04:57,851 - httpx - INFO - HTTP Request: POST https://api.openai.com/v1/embeddings \"HTTP/1.1 200 OK\"\n"
     ]
    },
    {
     "name": "stdout",
     "output_type": "stream",
     "text": [
      "page_content='Lack of traction with new product categories and/or services limits multiple expansion' metadata={'type': 'narravite_text', 'links': []}\n"
     ]
    },
    {
     "name": "stderr",
     "output_type": "stream",
     "text": [
      "2024-10-23 11:04:58,208 - httpx - INFO - HTTP Request: POST https://api.openai.com/v1/embeddings \"HTTP/1.1 200 OK\"\n"
     ]
    },
    {
     "name": "stdout",
     "output_type": "stream",
     "text": [
      "page_content='Carriers lengthening replacement cycles and/or lower subsidies or users replace batteries instead of upgrade' metadata={'type': 'narravite_text', 'links': []}\n"
     ]
    },
    {
     "name": "stderr",
     "output_type": "stream",
     "text": [
      "2024-10-23 11:04:58,802 - httpx - INFO - HTTP Request: POST https://api.openai.com/v1/embeddings \"HTTP/1.1 200 OK\"\n",
      "2024-10-23 11:04:59,019 - httpx - INFO - HTTP Request: POST https://api.openai.com/v1/embeddings \"HTTP/1.1 200 OK\"\n"
     ]
    },
    {
     "name": "stdout",
     "output_type": "stream",
     "text": [
      "page_content='Political, regulatory and legal risk as Apple gains profit share in mobile devices and remains dependent on Asian suppliers (i.e. Tariff risk) and consumers to deliver results' metadata={'type': 'narravite_text', 'links': []}\n"
     ]
    },
    {
     "name": "stderr",
     "output_type": "stream",
     "text": [
      "2024-10-23 11:04:59,242 - httpx - INFO - HTTP Request: POST https://api.openai.com/v1/embeddings \"HTTP/1.1 200 OK\"\n"
     ]
    },
    {
     "name": "stdout",
     "output_type": "stream",
     "text": [
      "page_content='Morgan Stanley | sesearcs' metadata={'type': 'section', 'links': []}\n"
     ]
    },
    {
     "name": "stderr",
     "output_type": "stream",
     "text": [
      "2024-10-23 11:04:59,451 - httpx - INFO - HTTP Request: POST https://api.openai.com/v1/embeddings \"HTTP/1.1 200 OK\"\n"
     ]
    },
    {
     "name": "stdout",
     "output_type": "stream",
     "text": [
      "page_content='Earnings Variance' metadata={'type': 'section', 'links': []}\n",
      "page_content='Exhibit 4: AAPL F3Q18 Earnings Variance' metadata={'type': 'section', 'links': []}\n"
     ]
    },
    {
     "name": "stderr",
     "output_type": "stream",
     "text": [
      "2024-10-23 11:04:59,932 - httpx - INFO - HTTP Request: POST https://api.openai.com/v1/embeddings \"HTTP/1.1 200 OK\"\n",
      "2024-10-23 11:05:00,165 - httpx - INFO - HTTP Request: POST https://api.openai.com/v1/embeddings \"HTTP/1.1 200 OK\"\n"
     ]
    },
    {
     "name": "stdout",
     "output_type": "stream",
     "text": [
      "page_content='Apple Earnings Analysis' metadata={'type': 'section', 'links': [Link(kind='section', direction='out', tag='4a46a7e0fa25069d97457f34b9fa1365')]}\n"
     ]
    },
    {
     "name": "stderr",
     "output_type": "stream",
     "text": [
      "2024-10-23 11:05:00,430 - httpx - INFO - HTTP Request: POST https://api.openai.com/v1/embeddings \"HTTP/1.1 200 OK\"\n"
     ]
    },
    {
     "name": "stdout",
     "output_type": "stream",
     "text": [
      "page_content='K aty H uberty Ticker: AAP L (212) 761-6249 Industry V iew: Attractive kathryn.huberty@ m organstanley.com R ating: O verw eight' metadata={'type': 'table', 'links': []}\n"
     ]
    },
    {
     "name": "stderr",
     "output_type": "stream",
     "text": [
      "2024-10-23 11:05:00,671 - httpx - INFO - HTTP Request: POST https://api.openai.com/v1/embeddings \"HTTP/1.1 200 OK\"\n"
     ]
    },
    {
     "name": "stdout",
     "output_type": "stream",
     "text": [
      "page_content='F4Q 18 and FY 18 E xpectations' metadata={'type': 'section', 'links': [Link(kind='section', direction='out', tag='d617d4efb5f401220fb272158ed0f56e'), Link(kind='section', direction='out', tag='2132ec1dca4808d0903cf3d7b866c888'), Link(kind='section', direction='out', tag='55513b09170360e22624de301c0d97e8'), Link(kind='section', direction='out', tag='e848f0664623381563c995b60254a994'), Link(kind='section', direction='out', tag='da66064aa1886bab885e05f6fb8b4a1b')]}\n",
      "page_content='C onsensus estim ates (pre-call): F4Q 18 rev enue of $59.6B and E P S of $2.65. FY18 revenue of $261.0B and E P S of $11.48. M S estim ates (pre-call): F4Q 18 rev enue of $58.2B and E P S of $2.61. FY18 revenue of $259.6B and E P S of $11.45. C om pany guidance: F4Q 18 rev enue $60-62B , G M 38-38.5% , O P E X $7.95-8.05B , O I& E $300M and tax 15% .' metadata={'type': 'narravite_text', 'links': []}\n"
     ]
    },
    {
     "name": "stderr",
     "output_type": "stream",
     "text": [
      "2024-10-23 11:05:00,976 - httpx - INFO - HTTP Request: POST https://api.openai.com/v1/embeddings \"HTTP/1.1 200 OK\"\n"
     ]
    },
    {
     "name": "stdout",
     "output_type": "stream",
     "text": [
      "page_content='C om pany guidance: F4Q 18 rev enue $60-62B , G M 38-38.5% , O P E X $7.95-8.05B , O I& E $300M and tax 15% . ($ M illions) F4Q 16 A F1Q 17 A F2Q 17 A F3Q 17 A F4Q 17 A F1Q 18 A F2Q 18 A F3Q 18 A F3Q 18 E T otal R evenues 46,852 78,351 52,896 45,408 52,579 88,293 61,137 53,265 Y /Y G rowth -9% 3% 5% 7% 12% 13% 16% 17% Q /Q G rowth 11% 67% -32% -14% 16% 68% -31% -13% G ross P rofit 17,813 30,176 20,591 17,488 19,931 33,912 23,422 20,421 G ross profit m argin 38.0% 38.5% 38.9% 38.5% 37.9% 38.4% 38.3% 38.3% S G & A 3,482 3,946 3,718 3,783 3,814 4,231 4,150 4,108 S G & A as a % of S ales 7% 5% 7% 8% 7% 5% 7% 8% R & D 2,570 2,871 2,776 2,937 2,997 3,407 3,378 3,701 R & D as a % of S ales 5% 4% 5% 6% 6% 4% 6% 7% T otal O perating E xpenses 6,052 6,817 6,494 6,720 6,811 7,638 7,528 7,809 O perating Incom e 11,761 23,359 14,097 10,768 13,120 26,274 15,894 12,612 O perating M argin 25.1% 29.8% 26.7% 23.7% 25.0% 29.8% 26.0% 23.7% O ther Incom e & E xpense 427 821 587 540 797 756 274 672 Tax rate 26.0% 26.0% 24.9% 22.9% 23.0% 25.8% 14.5% 13.3% O perating E P S $1.67 $3.36 $2.10 $1.67 $2.07 $3.89 $2.73 $2.34 S hare C ount 5,393 5,328 5,262 5,233 5,184 5,158 5,068 4,927 P roduct S hipm ents (K ) F4Q 16 A F1Q 17 A F2Q 17 A F3Q 17 A F4Q 17 A F1Q 18 A F2Q 18 A F3Q 18 A F3Q 18 E iP hone 45,513 78,290 50,763 41,026 46,677 77,316 52,217 41,300 Y /Y G rowth -5% 5% -1% 2% 3% -1% 3% 1% iP ad 9,267 13,081 8,922 11,424 10,326 13,170 9,113 11,553 Y /Y G rowth -6% -19% -13% 15% 11% 1% 2% 1% M ac 4,886 5,374 4,199 4,292 5,386 5,112 4,078 3,720 Y /Y G rowth -14% 1% 4% 1% 10% -5% -3% -13% P roduct R evenue ($M ) F4Q 16 A F1Q 17 A F2Q 17 A F3Q 17 A F4Q 17 A F1Q 18 A F2Q 18 A F3Q 18 A F3Q 18 E iP hone 28,160 54,378 33,249 24,846 28,846 61,576 38,032 29,906 Y /Y G rowth -13% 5% 1% 3% 2% 13% 14% 20% iP ad 4,255 5,533 3,889 4,969 4,831 5,862 4,113 4,741 Y /Y G rowth 0% -22% -12% 2% 14% 6% 6% -5% M ac 5,739 7,244 5,844 5,592 7,170 6,895 5,848 5,330 Y /Y G rowth -17% 7% 14% 7% 25% -5% 0% -5% S ervices 6,325 7,172 7,041 7,266 8,501 8,471 9,190 9,548 Y /Y G rowth 24% 18% 18% 22% 34% 18% 31% 31% O ther P roducts 2,373 4,024 2,873 2,735 3,231 5,489 3,954 3,740 Y /Y G rowth -22% -8% 31% 23% 36% 36% 38% 37% P roduct P rice (Adj. for D ef. R ev.) F4Q 16 A F1Q 17 A F2Q 17 A F3Q 17 A F4Q 17 A F1Q 18 A F2Q 18 A F3Q 18 A F3Q 18 E iP hone 612 698 653 600 615 802 728 719 Y /Y G rowth -9% 1% 2% 2% 1% 15% 12% 20% iP ad 458 429 438 441 473 453 455 417 Y /Y G rowth 9% -3% 2% -10% 3% 6% 4% -5% M ac 1,173 1,349 1,384 1,295 1,330 1,346 1,424 1,420 Y /Y G rowth -4% 6% 10% 6% 13% 0% 3% 10% R egional R evenue ($M ) F4Q 16 A F1Q 17 A F2Q 17 A F3Q 17 A F4Q 17 A F1Q 18 A F2Q 18 A F3Q 18 A F3Q 18 E Am ericas 20,229 31,968 21,157 20,376 23,099 35,193 24,841 24,542 Y /Y G rowth -7% 9% 11% 13% 14% 10% 17% 20% E urope, M iddle E ast, Africa 10,842 18,521 12,733 10,675 13,099 21,054 13,846 12,138 Y /Y G rowth 3% 3% 10% 11% 21% 14% 9% 14% G reater C hina 8,785 16,233 10,726 8,004 9,801 17,956 13,024 9,551 Y /Y G rowth -30% -12% -14% -10% 12% 11% 21% 19% Japan 4,324 5,766 4,485 3,624 3,858 7,237 5,468 3,867 Y /Y G rowth 10% 20% 5% 3% -11% 26% 22% 7% R est of Asia P acific 2,672 5,863 3,795 2,729 2,812 6,853 3,958 3,167 Y /Y G rowth -1% 8% 20% 15% 5% 17% 4% 16% B alance S heet / R eturn M etrics F4Q 16 A F1Q 17 A F2Q 17 A F3Q 17 A F4Q 17 A F1Q 18 A F2Q 18 A F3Q 18 A F3Q 18 E C FO 16,126 27,056 12,523 8,363 15,656 28,293 15,130 14,488 FC F 12,149 23,722 9,548 6,086 11,791 25,483 10,935 11,221 R epurchase of C om m on S tock 6,026 10,851 7,161 7,093 7,795 10,095 22,756 20,783 Total deferred R evenue 11,010 11,052 10,789 10,592 10,384 11,175 10,862 10,281 Y /Y G rowth -12% -12% -16% -7% -6% 1% 1% -3% Inv entory Turns 14 18 11 9 7 12 5 6 D ays S ales 31 16 20 25 31 24 21 24 D ays P ayable 118 72 80 105 138 104 83 108 D ays Inv entory 7 5 8 10 14 7 18 17 51,941 14% -15% 19,916 38.3% 4,207 8% 3,558 7% 7,765 12,150 23.4% 401 14.5% $2.17 4,935 39,800 -3% 10,500 -8% 4,301 0% 28,166 13% 4,708 -5% 5,712 2% 9,627 32% 3,728 36% 702 17% 454 3% 1,321 2% 22,997 19,088 20,000 10,569 0% 10 21 100 9 % D elta 3% 3% -2% 4% 1% 4% 68% 0% 4% 10% -14% 6% 1% -7% -1% 0% 2% -8% 7% -37% -41% 4% -3% -46% 16% 8% 85% S hare Im pact $0.09 $0.09 $0.02 ($0.03) $0.07 $0.05 $0.16 C ons. E st. 52,336 20,045 38.3% 7,694 12,350 $2.18' metadata={'type': 'table', 'links': []}\n"
     ]
    },
    {
     "name": "stderr",
     "output_type": "stream",
     "text": [
      "2024-10-23 11:05:01,368 - httpx - INFO - HTTP Request: POST https://api.openai.com/v1/embeddings \"HTTP/1.1 200 OK\"\n",
      "2024-10-23 11:05:01,617 - httpx - INFO - HTTP Request: POST https://api.openai.com/v1/embeddings \"HTTP/1.1 200 OK\"\n"
     ]
    },
    {
     "name": "stdout",
     "output_type": "stream",
     "text": [
      "page_content='C ash C onv ersion' metadata={'type': 'narravite_text', 'links': []}\n"
     ]
    },
    {
     "name": "stderr",
     "output_type": "stream",
     "text": [
      "2024-10-23 11:05:01,830 - httpx - INFO - HTTP Request: POST https://api.openai.com/v1/embeddings \"HTTP/1.1 200 OK\"\n"
     ]
    },
    {
     "name": "stdout",
     "output_type": "stream",
     "text": [
      "page_content='Source: Company Data, Thomson Reuters, Morgan Stanley Research' metadata={'type': 'narravite_text', 'links': []}\n"
     ]
    },
    {
     "name": "stderr",
     "output_type": "stream",
     "text": [
      "2024-10-23 11:05:02,031 - httpx - INFO - HTTP Request: POST https://api.openai.com/v1/embeddings \"HTTP/1.1 200 OK\"\n"
     ]
    },
    {
     "name": "stdout",
     "output_type": "stream",
     "text": [
      "page_content='UPDATE' metadata={'type': 'image', 'links': []}\n"
     ]
    },
    {
     "name": "stderr",
     "output_type": "stream",
     "text": [
      "2024-10-23 11:05:02,244 - httpx - INFO - HTTP Request: POST https://api.openai.com/v1/embeddings \"HTTP/1.1 200 OK\"\n"
     ]
    },
    {
     "name": "stdout",
     "output_type": "stream",
     "text": [
      "page_content='Morgan Stanley | researc' metadata={'type': 'section', 'links': []}\n",
      "page_content='Model' metadata={'type': 'section', 'links': []}\n"
     ]
    },
    {
     "name": "stderr",
     "output_type": "stream",
     "text": [
      "2024-10-23 11:05:02,545 - httpx - INFO - HTTP Request: POST https://api.openai.com/v1/embeddings \"HTTP/1.1 200 OK\"\n"
     ]
    },
    {
     "name": "stdout",
     "output_type": "stream",
     "text": [
      "page_content='Exhibit 5: Apple Income Statement' metadata={'type': 'section', 'links': [Link(kind='section', direction='out', tag='86a37f93113c0d6b37cae610752f9a0f'), Link(kind='section', direction='out', tag='2503d8c208baeec3521245ff3ecf1cb4'), Link(kind='section', direction='out', tag='a435fefbeff98ac5699ae6b0f7ea272e')]}\n"
     ]
    },
    {
     "name": "stderr",
     "output_type": "stream",
     "text": [
      "2024-10-23 11:05:02,831 - httpx - INFO - HTTP Request: POST https://api.openai.com/v1/embeddings \"HTTP/1.1 200 OK\"\n",
      "2024-10-23 11:05:03,038 - httpx - INFO - HTTP Request: POST https://api.openai.com/v1/embeddings \"HTTP/1.1 200 OK\"\n"
     ]
    },
    {
     "name": "stdout",
     "output_type": "stream",
     "text": [
      "page_content='($ in millions) Dec-16 Revenues 78,351 iPhone 54,378 iPad 5,533 Mac 7,244 Services 7,172 Other Products 4,024 Cost of Sales 48,175 Gross Profit 30,176 Gross Margin 38.5% Operating Expenses 6,817 Research and Development 2,871 Selling, General and Administrative 3,946 Operating Income 23,359 PTOP Margin 29.8% Total Interest & Other Income 821 Pretax Income 24,180 GAAP Income Tax Provision 6,289 Operating Tax Provision (excl one time tax effect) 6,289 Effective Tax Rate 26.0% Operating Net Income 17,891 Operating Net Income Margin 22.8% Total Non-recurring Charges - GAAP Net Income 17,891 Fully-diluted EPS EPS - ModelWare $3.36 EPS - Reported $3.36 EPS - ModelWare excl. Stock Option Expense $3.59 Dividend Payment 3,130 Dividend Per Share $0.59 Period Ending Outstanding Shares 5,255.4 Avg Shares (Basic) 5,298.7 Avg Shares (Fully Diluted) 5,328.0 2017A Mar-17 Jun-17 52,896 45,408 33,249 24,846 3,889 4,969 5,844 5,592 7,041 7,266 2,873 2,735 32,305 27,920 20,591 17,488 38.9% 38.5% 6,494 6,720 2,776 2,937 3,718 3,783 14,097 10,768 26.7% 23.7% 587 540 14,684 11,308 3,655 2,591 3,655 2,591 24.9% 22.9% 11,029 8,717 20.9% 19.2% - - 11,029 8,717 $2.10 $1.67 $2.10 $1.67 $2.33 $1.89 3,004 3,365 $0.57 $0.65 5,205.8 5,169.8 5,225.8 5,195.1 5,261.7 5,233.5 Sep-17 52,579 28,846 4,831 7,170 8,501 3,231 32,648 19,931 37.9% 6,811 2,997 3,814 13,120 25.0% 797 13,917 3,203 3,203 23.0% 10,714 20.4% - 10,714 $2.07 $2.07 $2.29 3,270 $0.64 5,126.2 5,149.4 5,183.6 Dec-17 88,293 61,576 5,862 6,895 8,471 5,489 54,381 33,912 38.4% 7,638 3,407 4,231 26,274 29.8% 756 27,030 6,965 6,965 25.8% 20,065 22.7% - 20,065 $3.89 $3.89 $4.14 3,339 $0.65 5,081.7 5,112.9 5,157.8 2018E Mar-18 61,137 38,032 4,113 5,848 9,190 3,954 37,715 23,422 38.3% 7,528 3,378 4,150 15,894 26.0% 274 16,168 2,346 2,346 14.5% 13,822 22.6% - 13,822 $2.73 $2.73 $2.99 3,190 $0.63 4,943.3 5,024.9 5,068.5 Jun-18 53,265 29,906 4,741 5,330 9,548 3,740 32,844 20,421 38.3% 7,809 3,701 4,108 12,612 23.7% 672 13,284 1,765 1,765 13.3% 11,519 21.6% - 11,519 $2.34 $2.34 $2.61 3,653 $0.75 4,842.9 4,882.2 4,926.6 Sep-18 61,026 34,851 5,023 6,729 10,031 4,391 37,690 23,335 38.2% 8,000 3,738 4,263 15,335 25.1% 305 15,640 2,346 2,346 15.0% 13,294 21.8% - 13,294 $2.75 $2.75 $3.03 3,530 $0.74 4,740.4 4,791.7 4,838.3 Dec-18 87,910 57,357 5,815 7,086 10,875 6,777 54,261 33,648 38.3% 8,703 4,044 4,659 24,945 28.4% 486 25,432 3,815 3,815 15.0% 21,617 24.6% - 21,617 $4.56 $4.56 $4.84 3,553 $0.76 4,639.7 4,690.1 4,737.7 2019E Mar-19 67,036 40,020 4,084 6,006 11,773 5,153 40,670 26,366 39.3% 8,514 3,955 4,558 17,852 26.6% 544 18,397 2,759 2,759 15.0% 15,637 23.3% - 15,637 $3.37 $3.37 $3.70 3,380 $0.74 4,540.7 4,590.2 4,638.7 Jun-19 57,683 30,407 4,540 5,468 12,126 5,143 34,558 23,125 40.1% 8,653 4,096 4,557 14,473 25.1% 476 14,949 2,242 2,242 15.0% 12,707 22.0% - 12,707 $2.80 $2.80 $3.13 3,697 $0.82 4,443.5 4,492.1 4,541.6 Sep-19 64,907 34,682 4,928 6,580 12,900 5,817 39,081 25,827 39.8% 8,795 4,122 4,673 17,032 26.2% 462 17,494 2,624 2,624 15.0% 14,870 22.9% - 14,870 $3.34 $3.34 $3.67 3,562 $0.81 4,348.2 4,395.8 4,446.4 2016A 215,639 136,700 20,628 22,831 24,348 11,132 131,376 84,263 39.1% 24,239 10,045 14,194 60,024 27.8% 1,348 61,372 15,685 15,685 25.6% 45,687 21.2% - 45,687 $8.31 $8.31 $9.07 12,150 $2.22 5,336.2 5,470.8 5,500.3 2017A 229,234 141,319 19,222 25,850 29,980 12,863 141,048 88,186 38.5% 26,842 11,581 15,261 61,344 26.8% 2,745 64,089 15,738 15,738 24.6% 48,351 21.1% - 48,351 $9.21 $9.21 $10.13 12,769 $2.45 5,126.2 5,217.2 5,251.7 Fiscal Year 2018E 263,721 164,365 19,739 24,802 37,240 17,574 162,630 101,090 38.3% 30,975 14,224 16,752 70,115 26.6% 2,007 72,122 13,422 13,422 18.6% 58,700 22.3% - 58,700 $11.75 $11.75 $12.81 13,712 $2.77 4,740.4 4,952.9 4,997.8 2019E 277,537 162,466 19,368 25,140 47,674 22,889 168,570 108,966 39.3% 34,664 16,216 18,448 74,302 26.8% 1,969 76,271 11,441 11,441 15.0% 64,830 23.4% - 64,830 $14.12 $14.12 $15.38 14,192 $3.12 4,348.2 4,542.0 4,591.1 2020E 289,973 160,433 17,613 24,616 60,045 27,265 172,662 117,311 40.5% 37,187 17,556 19,631 80,125 27.6% 1,745 81,870 12,281 12,281 15.0% 69,590 24.0% - 69,590 $16.49 $16.49 $17.82 14,320 $3.44 3,988.1 4,166.3 4,219.4' metadata={'type': 'table', 'links': []}\n",
      "page_content='Source: Company Data, Morgan Stanley Research' metadata={'type': 'narravite_text', 'links': []}\n"
     ]
    },
    {
     "name": "stderr",
     "output_type": "stream",
     "text": [
      "2024-10-23 11:05:03,257 - httpx - INFO - HTTP Request: POST https://api.openai.com/v1/embeddings \"HTTP/1.1 200 OK\"\n"
     ]
    },
    {
     "name": "stdout",
     "output_type": "stream",
     "text": [
      "page_content='UPDATE' metadata={'type': 'image', 'links': []}\n"
     ]
    },
    {
     "name": "stderr",
     "output_type": "stream",
     "text": [
      "2024-10-23 11:05:03,532 - httpx - INFO - HTTP Request: POST https://api.openai.com/v1/embeddings \"HTTP/1.1 200 OK\"\n"
     ]
    },
    {
     "name": "stdout",
     "output_type": "stream",
     "text": [
      "page_content='Morgan Stanley RESEARCH' metadata={'type': 'section', 'links': [Link(kind='section', direction='out', tag='d3db3769ddb6a8672b15ca65713a219a')]}\n"
     ]
    },
    {
     "name": "stderr",
     "output_type": "stream",
     "text": [
      "2024-10-23 11:05:03,833 - httpx - INFO - HTTP Request: POST https://api.openai.com/v1/embeddings \"HTTP/1.1 200 OK\"\n",
      "2024-10-23 11:05:04,085 - httpx - INFO - HTTP Request: POST https://api.openai.com/v1/embeddings \"HTTP/1.1 200 OK\"\n"
     ]
    },
    {
     "name": "stdout",
     "output_type": "stream",
     "text": [
      "page_content='Exhibit 6: Apple Income Statement Analysis' metadata={'type': 'narravite_text', 'links': []}\n",
      "page_content='Fiscal Year' metadata={'type': 'section', 'links': [Link(kind='section', direction='out', tag='800fc4b4c1522d6d39e21cbaffe1022c'), Link(kind='section', direction='out', tag='6a006e879bf4d7d798abd84000657d81'), Link(kind='section', direction='out', tag='cb40bfdead07241d2285f1860d449355')]}\n"
     ]
    },
    {
     "name": "stderr",
     "output_type": "stream",
     "text": [
      "2024-10-23 11:05:04,537 - httpx - INFO - HTTP Request: POST https://api.openai.com/v1/embeddings \"HTTP/1.1 200 OK\"\n",
      "2024-10-23 11:05:04,805 - httpx - INFO - HTTP Request: POST https://api.openai.com/v1/embeddings \"HTTP/1.1 200 OK\"\n"
     ]
    },
    {
     "name": "stdout",
     "output_type": "stream",
     "text": [
      "page_content='($ in millions) Dec-16 Margin Analysis Gross Margin 38.5% iPhone 39.3% iPad 24.5% Mac Services Other Products R&D SG&A Operating Expenses EBITDA Margin PTOP Margin Pretax Margin Net Income 24.5% 58.0% 38.3% 3.7% 5.0% 8.7% 29.8% 29.8% 30.9% 22.8% Year-Over-Year Growth (%) Revenue 3% iPhone 5% iPad -22% Mac 7% Services 18% Other Products -8% Gross Margin iPhone iPad Mac Services Other Products R&D SG&A -1% -4% -19% 10% 24% -4% 19% 3% Operating Expenses 9% PTOP Margin -3% Pretax Margin -2% Net Income -3% ModelWare EPS 2% Sequential Growth (%) Revenue iPhone iPad Mac Services Other Products 67% 93% 30% 26% 13% 70% Gross Margin 69% iPhone iPad 94% 36% Mac 32% Services 16% Other Products 70% R&D 12% SG&A 13% Operating Expenses 13% PTOP Margin 99% Pretax Margin Net Income ModelWare EPS 98% 98% 101% Revenue Mix iPhone iPad Mac Services 69% 7% 9% 9% Other Products 5% Mar-17 38.9% 39.5% 24.0% 24.0% 57.0% 38.6% 5.2% 7.0% 12.3% 26.9% 26.7% 27.8% 20.9% 5% 1% -12% 14% 18% 31% 3% -3% -10% 14% 20% 36% 11% 9% 9% 1% 4% 5% 10% -32% -39% -30% -19% -2% -29% -32% -38% -31% -21% -4% -28% -3% -6% -5% -40% -39% -38% -38% 63% 7% 11% 13% 5% Jun-17 38.5% 38.5% 24.5% 25.0% 58.5% 38.6% 6.5% 8.3% 14.8% 23.9% 23.7% 24.9% 19.2% 7% 3% 2% 7% 22% 23% 9% 1% 6% 11% 26% 28% 15% 10% 12% 7% 8% 12% 17% -14% -25% 28% -4% 3% -5% -15% -27% 30% 0% 6% -5% 6% 2% 3% -24% -23% -21% -21% 55% 11% 12% 16% 6% Sep-17 37.9% 37.3% 24.5% 25.0% 58.5% 38.3% 5.7% 7.3% 13.0% 25.1% 25.0% 26.5% 20.4% 12% 2% 14% 25% 34% 36% 12% -2% 18% 33% 39% 36% 17% 10% 13% 12% 14% 19% 24% 16% 16% -3% 28% 17% 18% 14% 12% -3% 28% 17% 17% 2% 1% 1% 22% 23% 23% 24% 55% 9% 14% 16% 6% Dec-17 38.4% 38.4% 25.0% 25.0% 58.5% 38.7% 3.9% 4.8% 8.7% 29.9% 29.8% 30.6% 22.7% 13% 13% 6% -5% 18% 36% 12% 11% 8% -3% 19% 38% 19% 7% 12% 12% 12% 12% 16% 68% 113% 21% -4% 0% 70% 70% 120% 24% -4% 0% 72% 14% 11% 12% 100% 94% 87% 88% 70% 7% 8% 10% 6% Mar-18 38.3% 37.2% 24.0% 24.0% 58.5% 38.1% 5.5% 6.8% 12.3% 26.2% 26.0% 26.4% 22.6% 16% 14% 6% 0% 31% 38% 14% 8% 6% 0% 34% 36% 22% 12% 16% 13% 10% 25% 30% -31% -38% -30% -15% 8% -28% -31% -40% -33% -19% 8% -29% -1% -2% -1% -40% -40% -31% -30% 62% 7% 10% 15% 6% Jun-18 38.3% 36.7% 24.0% 24.0% 58.5% 38.8% 6.9% 7.7% 14.7% 23.9% 23.7% 24.9% 21.6% 17% 20% -5% -5% 31% 37% 17% 15% -7% -9% 31% 37% 26% 9% 16% 17% 17% 32% 40% -13% -21% 15% -9% 4% -5% -13% -22% 15% -9% 4% -4% 10% -1% 4% -21% -18% -17% -14% 56% 9% 10% 18% 7% Sep-18 38.2% 36.8% 24.5% 24.5% 59.0% 39.0% 6.1% 7.0% 13.1% 25.4% 25.1% 25.6% 21.8% 16% 21% 4% -6% 18% 36% 17% 19% 4% -8% 19% 38% 25% 12% 17% 17% 12% 24% 33% 15% 17% 6% 26% 5% 17% 14% 17% 8% 29% 6% 18% 1% 4% 2% 22% 18% 15% 18% 57% 8% 11% 16% 7% Dec-18 38.3% 37.2% 25.0% 25.0% 59.3% 39.0% 4.6% 5.3% 9.9% 28.6% 28.4% 28.9% 24.6% 0% -7% -1% 3% 28% 23% -1% -10% -1% 3% 30% 25% 19% 10% 14% -5% -6% 8% 17% 44% 65% 16% 5% 8% 54% 44% 66% 18% 7% 9% 54% 8% 9% 9% 63% 63% 63% 66% 65% 7% 8% 12% 8% Mar-19 39.3% 37.2% 25.0% 25.0% 59.0% 39.0% 5.9% 6.8% 12.7% 27.0% 26.6% 27.4% 23.3% 10% 5% -1% 3% 28% 30% 13% 5% 3% 7% 29% 33% 17% 10% 13% 12% 14% 13% 24% -24% -30% -30% -15% 8% -24% -22% -30% -30% -15% 8% -24% -2% -2% -2% -28% -28% -28% -26% 60% 6% 9% 18% 8% Jun-19 40.1% 37.5% 25.0% 25.0% 59.5% 39.0% 7.1% 7.9% 15.0% 25.6% 25.1% 25.9% 22.0% 8% 2% -4% 3% 27% 38% 13% 4% 0% 7% 29% 38% 11% 11% 11% 15% 13% 10% 20% -14% -24% 11% -9% 3% 0% -12% -23% 11% -9% 4% 0% 4% 0% 2% -19% -19% -19% -17% 53% 8% 9% 21% 9% Sep-19 39.8% 37.5% 25.0% 25.0% 59.5% 39.0% 6.4% 7.2% 13.6% 27.0% 26.2% 27.0% 22.9% 6% 0% -2% -2% 29% 32% 11% 1% 0% 0% 30% 32% 10% 10% 10% 11% 12% 12% 22% 13% 14% 9% 20% 6% 13% 12% 14% 9% 20% 6% 13% 1% 3% 2% 18% 17% 17% 20% 53% 8% 10% 20% 9% 2016A 39.1% 41.1% 23.6% 23.9% 56.1% 37.4% 4.7% 6.6% 11.2% 32.7% 27.8% 28.5% 21.2% -8% -12% -11% -10% 22% 11% -10% -16% -15% -12% 25% 17% 25% -1% 8% -16% -15% -14% -10% 63% 10% 11% 11% 5% 2017A 38.5% 38.8% 24.4% 24.6% 58.0% 38.4% 5.1% 6.7% 11.7% 31.2% 26.8% 28.0% 21.1% 6% 3% -7% 13% 23% 16% 5% -2% -4% 17% 27% 19% 15% 8% 11% 2% 4% 6% 11% 62% 8% 11% 13% 6% 2018E 38.3% 37.5% 24.4% 24.4% 58.6% 38.6% 5.4% 6.4% 11.7% 31.1% 26.6% 27.3% 22.3% 15% 16% 3% -4% 24% 37% 15% 12% 3% -5% 25% 37% 23% 10% 15% 14% 13% 21% 28% 62% 7% 9% 14% 7% 2019E 39.3% 37.3% 25.0% 25.0% 59.3% 39.0% 5.8% 6.6% 12.5% 31.0% 26.8% 27.5% 23.4% 5% -1% -2% 1% 28% 30% 8% -2% 0% 4% 30% 31% 14% 10% 12% 6% 6% 10% 20% 59% 7% 9% 17% 8% 2020E 40.5% 37.5% 25.0% 25.0% 59.9% 39.0% 6.1% 6.8% 12.8% 32.4% 27.6% 28.2% 24.0% 4% -1% -9% -2% 26% 19% 8% -1% -9% -2% 27% 19% 8% 6% 7% 8% 7% 7% 17% 55% 6% 8% 21% 9%' metadata={'type': 'table', 'links': []}\n",
      "page_content='Source: Company Data, Morgan Stanley Research' metadata={'type': 'narravite_text', 'links': []}\n"
     ]
    },
    {
     "name": "stderr",
     "output_type": "stream",
     "text": [
      "2024-10-23 11:05:05,265 - httpx - INFO - HTTP Request: POST https://api.openai.com/v1/embeddings \"HTTP/1.1 200 OK\"\n",
      "2024-10-23 11:05:05,508 - httpx - INFO - HTTP Request: POST https://api.openai.com/v1/embeddings \"HTTP/1.1 200 OK\"\n"
     ]
    },
    {
     "name": "stdout",
     "output_type": "stream",
     "text": [
      "page_content='UPDATE' metadata={'type': 'image', 'links': []}\n"
     ]
    },
    {
     "name": "stderr",
     "output_type": "stream",
     "text": [
      "2024-10-23 11:05:05,767 - httpx - INFO - HTTP Request: POST https://api.openai.com/v1/embeddings \"HTTP/1.1 200 OK\"\n"
     ]
    },
    {
     "name": "stdout",
     "output_type": "stream",
     "text": [
      "page_content='Morgan Stanley | kesearcs' metadata={'type': 'section', 'links': []}\n",
      "page_content='Exhibit 7: Apple Balance Sheet' metadata={'type': 'section', 'links': [Link(kind='section', direction='out', tag='95829c7918c0aaf0931f68b663f7079c'), Link(kind='section', direction='out', tag='39b87ddca9222e3fcaec092e912e6d8e'), Link(kind='section', direction='out', tag='c50e8c18c13f67a008c026a7c890aa4b')]}\n"
     ]
    },
    {
     "name": "stderr",
     "output_type": "stream",
     "text": [
      "2024-10-23 11:05:06,038 - httpx - INFO - HTTP Request: POST https://api.openai.com/v1/embeddings \"HTTP/1.1 200 OK\"\n",
      "2024-10-23 11:05:06,295 - httpx - INFO - HTTP Request: POST https://api.openai.com/v1/embeddings \"HTTP/1.1 200 OK\"\n"
     ]
    },
    {
     "name": "stdout",
     "output_type": "stream",
     "text": [
      "page_content='($ in millions) Dec-16 Assets Current Assets: Cash and cash equivalents 16,371 Short-term investments 229,719 Accounts receivable 14,057 Inventories 2,712 Deferred tax assets 5,546 Other current assets 20,565 Total Current Assets 288,970 Property, Plant & Equipment, net 26,510 Acquired Intangible Assets 8,271 Other assets 7,390 Non-current debt and equity investments- Total Fixed Assets 42,171 Total Assets 331,141 Liabilities Current Liabilities: Accounts payable 38,510 Accrued expenses 31,628 Current Debt 13,992 Other current liabilities - Total Current Liabilities 84,130 Non-Current Liabilities Long-term debt 73,557 Deferred revenue - non-current 3,163 Deferred tax liabilities 37,051 Other non-current liabilities 850 Total Non-Current Liabilities 114,621 Total Liabilities 198,751 Series A preferred stock - Total Shareholder's Equity 132,390 Total Liabilities and Shareholder's Equity 331,141 2017A Mar-17 Jun-17 15,157 18,571 241,684 242,945 11,579 12,399 2,910 3,146 5,546 5,546 14,854 15,025 291,730 297,632 27,163 29,286 8,090 8,105 7,549 10,150 - - 42,802 47,541 334,532 345,173 28,573 31,915 30,778 30,912 13,991 18,475 - - 73,342 81,302 84,531 89,864 3,107 2,984 38,620 37,748 850 850 127,108 131,446 200,450 212,748 - - 134,082 132,425 334,532 345,173 Sep-17 20,289 248,606 17,874 4,855 5,546 26,189 323,359 33,783 8,015 10,162 - 51,960 375,319 49,049 33,292 18,473 - 100,814 97,207 2,836 39,565 850 140,458 241,272 - 134,047 375,319 Dec-17 27,491 257,606 23,440 4,421 5,546 33,250 351,754 33,679 8,038 13,323 - 55,040 406,794 62,985 34,325 18,478 - 115,788 103,922 3,131 42,904 850 150,807 266,595 - 140,199 406,794 2018E Mar-18 Jun-18 45,059 31,971 222,167 211,772 14,324 14,104 7,662 5,936 5,546 5,546 14,581 19,205 309,339 288,534 35,077 38,117 8,687 8,484 14,399 14,062 - - 58,163 60,663 367,502 349,197 34,311 38,489 34,531 32,587 20,478 17,472 - - 89,320 88,548 101,362 97,128 3,087 2,878 46,005 44,844 850 850 151,304 145,700 240,624 234,248 - - 126,878 114,949 367,502 349,197 Sep-18 24,573 211,772 19,236 6,145 5,546 25,631 292,904 38,413 8,496 14,227 - 61,137 354,040 47,113 37,566 17,472 - 102,151 97,128 2,917 44,844 850 145,739 247,890 - 106,151 354,040 Dec-18 28,906 211,772 24,419 7,235 5,546 28,909 306,787 39,079 8,510 13,989 - 61,579 368,366 62,099 37,087 17,472 - 116,658 97,128 3,267 44,844 850 146,089 262,746 - 105,619 368,366 2019E Mar-19 Jun-19 62,973 56,353 161,772 161,772 18,416 15,048 4,469 3,381 5,546 5,546 17,451 19,205 270,628 261,305 40,145 41,107 8,524 8,540 15,119 14,765 - - 63,789 64,412 334,417 325,717 37,542 39,817 34,044 32,518 17,472 17,472 - - 89,058 89,807 97,128 97,128 3,040 3,006 44,844 44,844 850 850 145,862 145,828 234,919 235,635 - - 99,497 90,082 334,417 325,717 Sep-19 46,378 161,772 21,165 3,398 5,546 25,631 263,891 42,666 8,556 14,938 - 66,160 330,050 48,001 35,987 17,472 - 101,460 97,128 2,880 44,844 850 145,702 247,162 - 82,888 330,050 2016A 20,484 217,101 15,754 2,132 5,546 16,282 277,299 27,010 8,620 8,757 - 44,387 321,686 37,294 30,107 11,605 - 79,006 75,427 2,930 35,224 850 114,431 193,437 - 128,249 321,686 2017A 20,289 248,606 17,874 4,855 5,546 26,189 323,359 33,783 8,015 10,162 - 51,960 375,319 49,049 33,292 18,473 - 100,814 97,207 2,836 39,565 850 140,458 241,272 - 134,047 375,319 2018E 24,573 211,772 19,236 6,145 5,546 25,631 292,904 38,413 8,496 14,227 - 61,137 354,040 47,113 37,566 17,472 - 102,151 97,128 2,917 44,844 850 145,739 247,890 - 106,151 354,040 2019E 46,378 161,772 21,165 3,398 5,546 25,631 263,891 42,666 8,556 14,938 - 66,160 330,050 48,001 35,987 17,472 - 101,460 97,128 2,880 44,844 850 145,702 247,162 - 82,888 330,050 2020E 74,749 111,772 21,477 3,497 5,546 28,434 245,475 46,682 8,628 15,685 - 70,995 316,470 50,267 38,881 17,472 - 106,619 97,128 2,966 44,844 850 145,788 252,407 - 64,063 316,470' metadata={'type': 'table', 'links': []}\n"
     ]
    },
    {
     "name": "stderr",
     "output_type": "stream",
     "text": [
      "2024-10-23 11:05:06,603 - httpx - INFO - HTTP Request: POST https://api.openai.com/v1/embeddings \"HTTP/1.1 200 OK\"\n"
     ]
    },
    {
     "name": "stdout",
     "output_type": "stream",
     "text": [
      "page_content='Source: Company Data, Morgan Stanley Research' metadata={'type': 'narravite_text', 'links': []}\n",
      "page_content='UPDATE' metadata={'type': 'image', 'links': []}\n"
     ]
    },
    {
     "name": "stderr",
     "output_type": "stream",
     "text": [
      "2024-10-23 11:05:07,071 - httpx - INFO - HTTP Request: POST https://api.openai.com/v1/embeddings \"HTTP/1.1 200 OK\"\n"
     ]
    },
    {
     "name": "stdout",
     "output_type": "stream",
     "text": [
      "page_content='Morgan Stanley | kesearcs' metadata={'type': 'section', 'links': [Link(kind='section', direction='out', tag='438f2afd4abaa93fe4f27d2e87f53688')]}\n"
     ]
    },
    {
     "name": "stderr",
     "output_type": "stream",
     "text": [
      "2024-10-23 11:05:07,391 - httpx - INFO - HTTP Request: POST https://api.openai.com/v1/embeddings \"HTTP/1.1 200 OK\"\n"
     ]
    },
    {
     "name": "stdout",
     "output_type": "stream",
     "text": [
      "page_content='Exhibit 8: Apple Cash Flow Statement' metadata={'type': 'narravite_text', 'links': []}\n"
     ]
    },
    {
     "name": "stderr",
     "output_type": "stream",
     "text": [
      "2024-10-23 11:05:07,713 - httpx - INFO - HTTP Request: POST https://api.openai.com/v1/embeddings \"HTTP/1.1 200 OK\"\n"
     ]
    },
    {
     "name": "stdout",
     "output_type": "stream",
     "text": [
      "page_content='($ in millions)' metadata={'type': 'section', 'links': [Link(kind='section', direction='out', tag='aae0bd90f1bf0dbc704952f30537a307')]}\n"
     ]
    },
    {
     "name": "stderr",
     "output_type": "stream",
     "text": [
      "2024-10-23 11:05:08,079 - httpx - INFO - HTTP Request: POST https://api.openai.com/v1/embeddings \"HTTP/1.1 200 OK\"\n",
      "2024-10-23 11:05:08,335 - httpx - INFO - HTTP Request: POST https://api.openai.com/v1/embeddings \"HTTP/1.1 200 OK\"\n"
     ]
    },
    {
     "name": "stdout",
     "output_type": "stream",
     "text": [
      "page_content='Dec-16 Cash Flow Statement (Non Cumulative) Operating activities: Net Income / (Loss) 17,891 Cumulative effect of accounting change - Adjustments to reconcile net income: - Depreciation & Amortization 2,987 Stock based compensation expense 1,256 Provision for (benefit from) deferred income taxes 1,452 Gain on non-current investments, net - Gain on short-term investments, net - Unrealized loss on conv. securities - Loss on sale of PP&E - Non-cash restructuring - In-Process R&D - Tax benefit from ESO - Changes in Operating Assets and Liabilities: Accounts receivable 1,697 Inventories (580) Other current assets (1,446) Other assets (375) Accounts payable 2,460 Deferred revenue 42 Accrued restructuring costs - Other current liabilities 1,672 Deferred tax liabilities - Net Cash Provided by Operating Activities 27,056 Investing activities: Purchase of short-term investments (54,272) Proceeds from maturities of short-term investments6,525 Proceeds from sales of short-term investments32,166 Purchases of long-term investments - Net Proceeds from sale of PP&E - Purchase of PP&E (3,334) Cash paid for acquisition of technology (103) Proceeds from sale of ARM shares - Other (104) Net cash used in investing activities (19,122) Financing activities: Proceeds from issuance of common stock - Excess tax benefits from stock-based compensation178 Taxes paid related to net share settlement of equity awards (629) Dividends and dividend equivalent rights paid (3,130) Repurchase of common stock (10,851) Increase (decrease) in long-term borrowings - Increase (decrease) in notes payable to banks 2,385 Net Cash used in Financing Activities (12,047) Increase/(decrease) in Cash and Cash Equivalents (4,113) Adjustments for restatements - Cash and Cash Equivalents at Beginning of Period20,484 Mar-17 Jun-17 11,029 8,717 - - - - 2,332 2,354 1,217 1,193 1,370 1,942 - - - - - - - - - - - - - - 2,486 (802) (198) (236) 550 (2,333) 4,887 (1,200) (9,322) 1,650 (263) (197) - - (1,565) (2,725) - - 12,523 8,363 (45,549) (23,960) 5,904 6,918 28,288 16,293 - - - - (2,975) (2,277) (90) (351) - - 220 197 (14,202) (3,180) 273 1 47 309 (159) (858) (3,004) (3,365) (7,161) (7,093) 10,975 10,750 (506) (1,513) 465 (1,769) (1,214) 3,414 - - 16,371 15,157 Sep-17 10,714 - - 2,484 1,174 1,202 - - - - - - - (5,474) (1,709) (2,089) (7,566) 14,830 (208) - 2,298 - 15,656 (35,705) 12,428 17,817 - - (3,865) 200 - (817) (9,942) 281 93 (228) (3,270) (7,795) 6,937 (14) (3,996) 1,718 - 18,571 Dec-17 20,065 - - 2,745 1,296 (33,737) - - - - - - - (5,570) 434 (197) (9,660) 14,588 791 - 37,538 - 28,293 (41,272) 14,048 16,801 - - (2,810) (154) - (203) (13,590) - - (1,038) (3,339) (10,095) 6,971 - (7,501) 7,202 - 20,289 Mar-18 13,822 - - 2,739 1,348 (498) - - - - - - - 9,093 (3,241) (856) 19,375 (27,808) (313) - 1,469 - 15,130 (7,177) 17,836 22,141 - - (4,195) (151) - 256 28,710 327 - (152) (3,190) (22,756) (502) 1 (26,272) 17,568 - 27,491 Jun-18 11,519 - - 2,665 1,351 1,126 - - - - - - - 233 1,693 988 (4,179) 2,081 (581) - (2,408) - 14,488 (7,684) 14,406 2,672 - - (3,267) (126) - (2,054) 3,947 1 - (1,077) (3,653) (20,783) (6,000) (11) (31,523) (13,088) - 45,059 Sep-18 13,294 - 3,875 1,343 - - - - - - - - (5,132) (209) (6,426) (165) 8,624 39 - 4,979 - 20,221 - - - - 119 (4,176) (126) - - (4,184) 95 - - (3,530) (20,000) - - (23,435) (7,398) - 31,971 Dec-18 21,617 - 3,106 1,319 - - - - - - - - (5,183) (1,090) (3,278) 238 14,986 350 - (479) - 31,585 - - - - 119 (3,779) (126) - - (3,786) 86 - - (3,553) (20,000) - - (23,467) 4,332 - 24,573 Mar-19 15,637 - 2,836 1,542 - - - - - - - - 6,003 2,766 11,458 (1,130) (24,558) (227) - (3,043) - 11,284 - 50,000 - - 124 (3,914) (126) - - 46,084 80 - - (3,380) (20,000) - - (23,301) 34,068 - 28,906 Jun-19 12,707 - 2,875 1,500 - - - - - - - - 3,369 1,089 (1,754) 354 2,275 (33) - (1,526) - 20,855 - - - - 133 (3,860) (126) - - (3,852) 75 - - (3,697) (20,000) - - (23,622) (6,620) - 62,973 Sep-19 14,870 - 2,974 1,428 - - - - - - - - (6,118) (18) (6,426) (173) 8,184 (126) - 3,469 - 18,064 - - - - 138 (4,560) (126) - - (4,548) 71 - - (3,562) (20,000) - - (23,491) (9,975) - 56,353 2016A 45,687 - 10,505 4,210 4,938 - - - - - - - 1,095 217 (51) 1,090 1,791 (1,554) - (2,104) - 65,824 (142,428) 21,258 90,536 - - (12,734) (2,499) - (110) (45,977) 495 407 (1,570) (12,150) (29,722) 22,454 (397) (20,483) (636) 21,120 2017A 48,351 - 10,157 4,840 5,966 - - - - - - - (2,093) (2,723) (5,318) (4,254) 9,618 (626) - (320) - 63,598 (159,486) 31,775 94,564 - - (12,451) (344) - (504) (46,446) 555 627 (1,874) (12,769) (32,900) 28,662 352 (17,347) (195) 20,484 2018E 58,700 - 12,024 5,338 (33,109) - - - - - - - (1,376) (1,323) (6,491) 5,371 (2,515) (64) - 41,578 - 78,132 (56,133) 46,290 41,614 - 119 (14,448) (557) - (2,001) 14,883 423 - (2,267) (13,712) (73,634) 469 (10) (88,731) 4,284 20,289 2019E 64,830 - 11,791 5,788 - - - - - - - - (1,929) 2,747 - (711) 888 (37) - (1,579) - 81,788 - 50,000 - - 514 (16,113) (504) - - 33,897 312 - - (14,192) (80,000) - - (93,881) 21,805 24,573 2020E 69,590 - 13,950 5,596 - - - - - - - - (312) (98) (2,803) (747) 2,265 86 - 2,893 - 90,421 - 50,000 - - 592 (18,126) (504) - - 31,962 309 - - (14,320) (80,000) - - (94,011) 28,371 46,378' metadata={'type': 'table', 'links': []}\n"
     ]
    },
    {
     "name": "stderr",
     "output_type": "stream",
     "text": [
      "2024-10-23 11:05:08,582 - httpx - INFO - HTTP Request: POST https://api.openai.com/v1/embeddings \"HTTP/1.1 200 OK\"\n"
     ]
    },
    {
     "name": "stdout",
     "output_type": "stream",
     "text": [
      "page_content='Cash and Cash Equivalents at End of Period 16,371' metadata={'type': 'section', 'links': [Link(kind='section', direction='out', tag='53d868072b5d6530fe6f3358244fbabf'), Link(kind='section', direction='out', tag='c693a48d5f6bb4afe392eab460893a86')]}\n"
     ]
    },
    {
     "name": "stderr",
     "output_type": "stream",
     "text": [
      "2024-10-23 11:05:08,839 - httpx - INFO - HTTP Request: POST https://api.openai.com/v1/embeddings \"HTTP/1.1 200 OK\"\n"
     ]
    },
    {
     "name": "stdout",
     "output_type": "stream",
     "text": [
      "page_content='Source: Company Data, Morgan Stanley Research' metadata={'type': 'narravite_text', 'links': []}\n",
      "page_content='UPDATE' metadata={'type': 'image', 'links': []}\n"
     ]
    },
    {
     "name": "stderr",
     "output_type": "stream",
     "text": [
      "2024-10-23 11:05:09,138 - httpx - INFO - HTTP Request: POST https://api.openai.com/v1/embeddings \"HTTP/1.1 200 OK\"\n"
     ]
    },
    {
     "name": "stdout",
     "output_type": "stream",
     "text": [
      "page_content='Morgan Stanley | sesearcs' metadata={'type': 'section', 'links': []}\n"
     ]
    },
    {
     "name": "stderr",
     "output_type": "stream",
     "text": [
      "2024-10-23 11:05:09,818 - httpx - INFO - HTTP Request: POST https://api.openai.com/v1/embeddings \"HTTP/1.1 200 OK\"\n"
     ]
    },
    {
     "name": "stdout",
     "output_type": "stream",
     "text": [
      "page_content='Disclosure Section' metadata={'type': 'section', 'links': [Link(kind='section', direction='out', tag='020fad06e5ab2986f4fe3d1d9af3a017'), Link(kind='section', direction='out', tag='d714f6a344346697ecfbf42002aa0139'), Link(kind='section', direction='out', tag='5cf296495061a39f045f33d41facfc4e')]}\n"
     ]
    },
    {
     "name": "stderr",
     "output_type": "stream",
     "text": [
      "2024-10-23 11:05:10,213 - httpx - INFO - HTTP Request: POST https://api.openai.com/v1/embeddings \"HTTP/1.1 200 OK\"\n",
      "2024-10-23 11:05:10,487 - httpx - INFO - HTTP Request: POST https://api.openai.com/v1/embeddings \"HTTP/1.1 200 OK\"\n"
     ]
    },
    {
     "name": "stdout",
     "output_type": "stream",
     "text": [
      "page_content='The information and opinions in Morgan Stanley Research were prepared by Morgan Stanley & Co. LLC, and/or Morgan Stanley C.T.V.M. S.A., and/or Morgan Stanley Mexico, Casa de Bolsa, S.A. de C.V., and/or Morgan Stanley Canada Limited. As used in this disclosure section, \"Morgan Stanley\" includes Morgan Stanley & Co. LLC, Morgan Stanley C.T.V.M. S.A., Morgan Stanley Mexico, Casa de Bolsa, S.A. de C.V., Morgan Stanley Canada Limited and their affiliates as necessary.' metadata={'type': 'narravite_text', 'links': []}\n",
      "page_content='For important disclosures, stock price charts and equity rating histories regarding companies that are the subject of this report, please see the Morgan Stanley Research Disclosure Website at www.morganstanley.com/researchdisclosures, or contact your investment representative or Morgan Stanley Research at 1585 Broadway, (Attention: Research Management), New York, NY, 10036 USA.' metadata={'type': 'narravite_text', 'links': []}\n"
     ]
    },
    {
     "name": "stderr",
     "output_type": "stream",
     "text": [
      "2024-10-23 11:05:10,764 - httpx - INFO - HTTP Request: POST https://api.openai.com/v1/embeddings \"HTTP/1.1 200 OK\"\n",
      "2024-10-23 11:05:11,026 - httpx - INFO - HTTP Request: POST https://api.openai.com/v1/embeddings \"HTTP/1.1 200 OK\"\n"
     ]
    },
    {
     "name": "stdout",
     "output_type": "stream",
     "text": [
      "page_content='For valuation methodology and risks associated with any recommendation, rating or price target referenced in this research report, please contact the Client Support Team as follows: US/Canada +1 800 303-2495; Hong Kong +852 2848-5999; Latin America +1 718 754-5444 (U.S.); London +44 (0)20-7425-8169; Singapore +65 6834-6860; Sydney +61 (0)2-9770-1505; Tokyo +81 (0)3-6836-9000. Alternatively you may contact your investment representative or Morgan Stanley Research at 1585 Broadway, (Attention: Research Management), New York, NY 10036 USA.' metadata={'type': 'narravite_text', 'links': []}\n",
      "page_content='Analyst Certification' metadata={'type': 'section', 'links': [Link(kind='section', direction='out', tag='36e6c2fcab7a976e90ea1d7e91341751'), Link(kind='section', direction='out', tag='ca922b4c576d21f8d0635c6bae732b75')]}\n"
     ]
    },
    {
     "name": "stderr",
     "output_type": "stream",
     "text": [
      "2024-10-23 11:05:11,338 - httpx - INFO - HTTP Request: POST https://api.openai.com/v1/embeddings \"HTTP/1.1 200 OK\"\n"
     ]
    },
    {
     "name": "stdout",
     "output_type": "stream",
     "text": [
      "page_content='The following analysts hereby certify that their views about the companies and their securities discussed in this report are accurately expressed and that they have not received and will not receive direct or indirect compensation in exchange for expressing specific recommendations or views in this report: Katy L. Huberty, CFA.' metadata={'type': 'narravite_text', 'links': []}\n"
     ]
    },
    {
     "name": "stderr",
     "output_type": "stream",
     "text": [
      "2024-10-23 11:05:12,114 - httpx - INFO - HTTP Request: POST https://api.openai.com/v1/embeddings \"HTTP/1.1 200 OK\"\n",
      "2024-10-23 11:05:12,402 - httpx - INFO - HTTP Request: POST https://api.openai.com/v1/embeddings \"HTTP/1.1 200 OK\"\n"
     ]
    },
    {
     "name": "stdout",
     "output_type": "stream",
     "text": [
      "page_content='Unless otherwise stated, the individuals listed on the cover page of this report are research analysts.' metadata={'type': 'narravite_text', 'links': []}\n",
      "page_content='Global Research Conflict Management Policy' metadata={'type': 'section', 'links': [Link(kind='section', direction='out', tag='d6e81f60cee805e7ed4f77d6bd02ee5a')]}\n"
     ]
    },
    {
     "name": "stderr",
     "output_type": "stream",
     "text": [
      "2024-10-23 11:05:12,918 - httpx - INFO - HTTP Request: POST https://api.openai.com/v1/embeddings \"HTTP/1.1 200 OK\"\n",
      "2024-10-23 11:05:13,127 - httpx - INFO - HTTP Request: POST https://api.openai.com/v1/embeddings \"HTTP/1.1 200 OK\"\n"
     ]
    },
    {
     "name": "stdout",
     "output_type": "stream",
     "text": [
      "page_content='Morgan Stanley Research has been published in accordance with our conflict management policy, which is available at www.morganstanley.com/institutional/research/conflictpolicies.' metadata={'type': 'narravite_text', 'links': []}\n",
      "page_content='Important US Regulatory Disclosures on Subject Companies' metadata={'type': 'section', 'links': [Link(kind='section', direction='out', tag='c878461efe098405a05f7f32b8e5969f'), Link(kind='section', direction='out', tag='b98375cd20148cd2a18d07abc3f95106'), Link(kind='section', direction='out', tag='969c78434c88d57a7947a40e0e2d3720'), Link(kind='section', direction='out', tag='30f9781df9efa4e1848569030925618c'), Link(kind='section', direction='out', tag='1240ce98d9666cde6cdbb24b89b449a4'), Link(kind='section', direction='out', tag='7f9d6d4940f09682da8bd187ff76d7ae'), Link(kind='section', direction='out', tag='35d36c1c60241473c5e6aab792c0227c'), Link(kind='section', direction='out', tag='f179a115f50d3cb8b7aa93d806ad78d6'), Link(kind='section', direction='out', tag='baa37ea8d851f7e99b2f6a66148db469'), Link(kind='section', direction='out', tag='0c52a7f0e43cf0ddc1b19ef122cc66dc')]}\n"
     ]
    },
    {
     "name": "stderr",
     "output_type": "stream",
     "text": [
      "2024-10-23 11:05:13,479 - httpx - INFO - HTTP Request: POST https://api.openai.com/v1/embeddings \"HTTP/1.1 200 OK\"\n",
      "2024-10-23 11:05:13,807 - httpx - INFO - HTTP Request: POST https://api.openai.com/v1/embeddings \"HTTP/1.1 200 OK\"\n"
     ]
    },
    {
     "name": "stdout",
     "output_type": "stream",
     "text": [
      "page_content='As of June 29, 2018, Morgan Stanley beneficially owned 1% or more of a class of common equity securities of the following companies covered in Morgan Stanley Research: Apple, Inc., Electronics for Imaging Inc, Fitbit Inc, GoPro Inc, IBM, Pure Storage Inc, Seagate Technology, Xerox Corp. Within the last 12 months, Morgan Stanley managed or co-managed a public offering (or 144A offering) of securities of Apple, Inc., Hewlett Packard Enterprise, NetApp Inc, Nutanix Inc, Pure Storage Inc.' metadata={'type': 'narravite_text', 'links': []}\n"
     ]
    },
    {
     "name": "stderr",
     "output_type": "stream",
     "text": [
      "2024-10-23 11:05:14,028 - httpx - INFO - HTTP Request: POST https://api.openai.com/v1/embeddings \"HTTP/1.1 200 OK\"\n"
     ]
    },
    {
     "name": "stdout",
     "output_type": "stream",
     "text": [
      "page_content='Within the last 12 months, Morgan Stanley has received compensation for investment banking services from Apple, Inc., CDW Corporation, Hewlett Packard Enterprise, HP Inc., NetApp Inc, Nutanix Inc, Pure Storage Inc, Xerox Corp.' metadata={'type': 'narravite_text', 'links': []}\n"
     ]
    },
    {
     "name": "stderr",
     "output_type": "stream",
     "text": [
      "2024-10-23 11:05:14,236 - httpx - INFO - HTTP Request: POST https://api.openai.com/v1/embeddings \"HTTP/1.1 200 OK\"\n"
     ]
    },
    {
     "name": "stdout",
     "output_type": "stream",
     "text": [
      "page_content='In the next 3 months, Morgan Stanley expects to receive or intends to seek compensation for investment banking services from Apple, Inc., CDW Corporation, Electronics for Imaging Inc, Fitbit Inc, Garmin Ltd, GoPro Inc, Hewlett Packard Enterprise, HP Inc., IBM, NCR Corp., NetApp Inc, Nutanix Inc, Pure Storage Inc, Seagate Technology, Teradata, Xerox Corp.' metadata={'type': 'narravite_text', 'links': []}\n",
      "page_content='Within the last 12 months, Morgan Stanley has received compensation for products and services other than investment banking services from Apple, Inc., CDW Corporation, Electronics for Imaging Inc, Fitbit Inc, Garmin Ltd, Hewlett Packard Enterprise, HP Inc., IBM, NCR Corp., NetApp Inc, Seagate Technology, Xerox Corp.' metadata={'type': 'narravite_text', 'links': []}\n"
     ]
    },
    {
     "name": "stderr",
     "output_type": "stream",
     "text": [
      "2024-10-23 11:05:14,899 - httpx - INFO - HTTP Request: POST https://api.openai.com/v1/embeddings \"HTTP/1.1 200 OK\"\n",
      "2024-10-23 11:05:15,268 - httpx - INFO - HTTP Request: POST https://api.openai.com/v1/embeddings \"HTTP/1.1 200 OK\"\n"
     ]
    },
    {
     "name": "stdout",
     "output_type": "stream",
     "text": [
      "page_content='Within the last 12 months, Morgan Stanley has provided or is providing investment banking services to, or has an investment banking client relationship with, the following company: Apple, Inc., CDW Corporation, Electronics for Imaging Inc, Fitbit Inc, Garmin Ltd, GoPro Inc, Hewlett Packard Enterprise, HP Inc., IBM, NCR Corp., NetApp Inc, Nutanix Inc, Pure Storage Inc, Seagate Technology, Teradata, Xerox Corp.' metadata={'type': 'narravite_text', 'links': []}\n"
     ]
    },
    {
     "name": "stderr",
     "output_type": "stream",
     "text": [
      "2024-10-23 11:05:15,505 - httpx - INFO - HTTP Request: POST https://api.openai.com/v1/embeddings \"HTTP/1.1 200 OK\"\n"
     ]
    },
    {
     "name": "stdout",
     "output_type": "stream",
     "text": [
      "page_content='Within the last 12 months, Morgan Stanley has either provided or is providing non-investment banking, securities-related services to and/or in the past has entered into an agreement to provide services or has a client relationship with the following company: Apple, Inc., CDW Corporation, Electronics for Imaging Inc, Fitbit Inc, Garmin Ltd, GoPro Inc, Hewlett Packard Enterprise, HP Inc., IBM, NCR Corp., NetApp Inc, Nutanix Inc, Pure Storage Inc, Seagate Technology, Xerox Corp.' metadata={'type': 'narravite_text', 'links': []}\n"
     ]
    },
    {
     "name": "stderr",
     "output_type": "stream",
     "text": [
      "2024-10-23 11:05:15,733 - httpx - INFO - HTTP Request: POST https://api.openai.com/v1/embeddings \"HTTP/1.1 200 OK\"\n"
     ]
    },
    {
     "name": "stdout",
     "output_type": "stream",
     "text": [
      "page_content='An employee, director or consultant of Morgan Stanley is a director of IBM. This person is not a research analyst or a member of a research analyst's household.' metadata={'type': 'narravite_text', 'links': []}\n",
      "page_content='Morgan Stanley & Co. LLC makes a market in the securities of Apple, Inc., CDW Corporation, Electronics for Imaging Inc, Fitbit Inc, Garmin Ltd, GoPro Inc, Hewlett Packard Enterprise, HP Inc., IBM, NCR Corp., NetApp Inc, Pure Storage Inc, Seagate Technology, Teradata, Xerox Corp. The equity research analysts or strategists principally responsible for the preparation of Morgan Stanley Research have received compensation based upon various factors, including quality of research, investor client feedback, stock picking, competitive factors, firm revenues and overall investment banking revenues. Equity Research analysts' or strategists' compensation is not linked to investment banking or capital markets transactions performed by Morgan Stanley or the profitability or revenues of particular trading desks.' metadata={'type': 'narravite_text', 'links': []}\n"
     ]
    },
    {
     "name": "stderr",
     "output_type": "stream",
     "text": [
      "2024-10-23 11:05:16,624 - httpx - INFO - HTTP Request: POST https://api.openai.com/v1/embeddings \"HTTP/1.1 200 OK\"\n",
      "2024-10-23 11:05:16,859 - httpx - INFO - HTTP Request: POST https://api.openai.com/v1/embeddings \"HTTP/1.1 200 OK\"\n"
     ]
    },
    {
     "name": "stdout",
     "output_type": "stream",
     "text": [
      "page_content='Morgan Stanley and its affiliates do business that relates to companies/instruments covered in Morgan Stanley Research, including market making, providing liquidity, fund management, commercial banking, extension of credit, investment services and investment banking. Morgan Stanley sells to and buys from customers the securities/instruments of companies covered in Morgan Stanley Research on a principal basis. Morgan Stanley may have a position in the debt of the Company or instruments discussed in this report. Morgan Stanley trades or may trade as principal in the debt securities (or in related derivatives) that are the subject of the debt research report.' metadata={'type': 'narravite_text', 'links': []}\n",
      "page_content='Certain disclosures listed above are also for compliance with applicable regulations in non-US jurisdictions.' metadata={'type': 'narravite_text', 'links': []}\n"
     ]
    },
    {
     "name": "stderr",
     "output_type": "stream",
     "text": [
      "2024-10-23 11:05:17,352 - httpx - INFO - HTTP Request: POST https://api.openai.com/v1/embeddings \"HTTP/1.1 200 OK\"\n",
      "2024-10-23 11:05:17,658 - httpx - INFO - HTTP Request: POST https://api.openai.com/v1/embeddings \"HTTP/1.1 200 OK\"\n"
     ]
    },
    {
     "name": "stdout",
     "output_type": "stream",
     "text": [
      "page_content='STOCK RATINGS' metadata={'type': 'section', 'links': [Link(kind='section', direction='out', tag='9aa7cd345fe2746e0259fae81f6178d5')]}\n"
     ]
    },
    {
     "name": "stderr",
     "output_type": "stream",
     "text": [
      "2024-10-23 11:05:17,857 - httpx - INFO - HTTP Request: POST https://api.openai.com/v1/embeddings \"HTTP/1.1 200 OK\"\n"
     ]
    },
    {
     "name": "stdout",
     "output_type": "stream",
     "text": [
      "page_content='Morgan Stanley uses a relative rating system using terms such as Overweight, Equal-weight, Not-Rated or Underweight (see definitions below). Morgan Stanley does not assign ratings of Buy, Hold or Sell to the stocks we cover. Overweight, Equal-weight, Not-Rated and Underweight are not the equivalent of buy, hold and sell. Investors should carefully read the definitions of all ratings used in Morgan Stanley Research. In addition, since Morgan Stanley Research contains more complete information concerning the analyst's views, investors should carefully read Morgan Stanley Research, in its entirety, and not infer the contents from the rating alone. In any case, ratings (or research) should not be used or relied upon as investment advice. An investor's decision to buy or sell a stock should depend on individual circumstances (such as the investor's existing holdings) and other considerations.' metadata={'type': 'narravite_text', 'links': []}\n"
     ]
    },
    {
     "name": "stderr",
     "output_type": "stream",
     "text": [
      "2024-10-23 11:05:18,065 - httpx - INFO - HTTP Request: POST https://api.openai.com/v1/embeddings \"HTTP/1.1 200 OK\"\n"
     ]
    },
    {
     "name": "stdout",
     "output_type": "stream",
     "text": [
      "page_content='Global Stock Ratings Distribution' metadata={'type': 'section', 'links': [Link(kind='section', direction='out', tag='3204cbb82df450b1149fbc148130ecdd'), Link(kind='section', direction='out', tag='30f1bab37ba54630cbcc4c092c1658c6'), Link(kind='section', direction='out', tag='9dcde5e9fe9c412e0824043f00e53d67')]}\n"
     ]
    },
    {
     "name": "stderr",
     "output_type": "stream",
     "text": [
      "2024-10-23 11:05:18,301 - httpx - INFO - HTTP Request: POST https://api.openai.com/v1/embeddings \"HTTP/1.1 200 OK\"\n"
     ]
    },
    {
     "name": "stdout",
     "output_type": "stream",
     "text": [
      "page_content='(as of July 31, 2018)' metadata={'type': 'narravite_text', 'links': []}\n",
      "page_content='The Stock Ratings described below apply to Morgan Stanley's Fundamental Equity Research and do not apply to Debt Research produced by the Firm. For disclosure purposes only (in accordance with NASD and NYSE requirements), we include the category headings of Buy, Hold, and Sell alongside our ratings of Overweight, Equal-weight, Not-Rated and Underweight. Morgan Stanley does not assign ratings of Buy, Hold or Sell to the stocks we cover. Overweight, Equal-weight, Not-Rated and Underweight are not the equivalent of buy, hold, and sell but represent recommended relative weightings (see definitions below). To satisfy regulatory requirements, we correspond Overweight, our most positive stock rating, with a buy recommendation; we correspond Equal-weight and Not-Rated to hold and Underweight to sell recommendations, respectively.' metadata={'type': 'narravite_text', 'links': []}\n"
     ]
    },
    {
     "name": "stderr",
     "output_type": "stream",
     "text": [
      "2024-10-23 11:05:18,593 - httpx - INFO - HTTP Request: POST https://api.openai.com/v1/embeddings \"HTTP/1.1 200 OK\"\n",
      "2024-10-23 11:05:18,832 - httpx - INFO - HTTP Request: POST https://api.openai.com/v1/embeddings \"HTTP/1.1 200 OK\"\n"
     ]
    },
    {
     "name": "stdout",
     "output_type": "stream",
     "text": [
      "page_content='UPDATE' metadata={'type': 'image', 'links': []}\n"
     ]
    },
    {
     "name": "stderr",
     "output_type": "stream",
     "text": [
      "2024-10-23 11:05:19,051 - httpx - INFO - HTTP Request: POST https://api.openai.com/v1/embeddings \"HTTP/1.1 200 OK\"\n"
     ]
    },
    {
     "name": "stdout",
     "output_type": "stream",
     "text": [
      "page_content='Morgan Stanley | sesearcs' metadata={'type': 'section', 'links': [Link(kind='section', direction='out', tag='7f36a5ee4ceb50043ff19e240bc7c497'), Link(kind='section', direction='out', tag='671f1c60d69d3032700800fe9cb96379')]}\n",
      "page_content='COVERAGE UNIVERSE INVESTMENT BANKING CLIENTS (IBC) OTHER MATERIAL INVESTMENT SERVICES CLIENTS (MISC) STOCK RATING COUNT % OF COUNT % OF % OF COUNT % OF CATEGORY TOTAL TOTAL IBC RATING TOTAL CATEGORY OTHER MISC Overweight/Buy 1164 37% 306 41% 26% 544 38% Equal-weight/Hold 1347 43% 359 48% 27% 648 46% Not-Rated/Hold 49 2% 4 1% 8% 7 0% Underweight/Sell 546 18% 75 10% 14% 215 15% TOTAL 3,106 744 1414' metadata={'type': 'table', 'links': []}\n"
     ]
    },
    {
     "name": "stderr",
     "output_type": "stream",
     "text": [
      "2024-10-23 11:05:19,696 - httpx - INFO - HTTP Request: POST https://api.openai.com/v1/embeddings \"HTTP/1.1 200 OK\"\n",
      "2024-10-23 11:05:20,005 - httpx - INFO - HTTP Request: POST https://api.openai.com/v1/embeddings \"HTTP/1.1 200 OK\"\n"
     ]
    },
    {
     "name": "stdout",
     "output_type": "stream",
     "text": [
      "page_content='Data include common stock and ADRs currently assigned ratings. Investment Banking Clients are companies from whom Morgan Stanley received investment banking compensation in the last 12 months. Due to rounding off of decimals, the percentages provided in the \"% of total\" column may not add up to exactly 100 percent.' metadata={'type': 'narravite_text', 'links': []}\n",
      "page_content='Analyst Stock Ratings' metadata={'type': 'section', 'links': [Link(kind='section', direction='out', tag='2c6e3a0084cdc32c3fb66bec799cc189'), Link(kind='section', direction='out', tag='beb647d1101f5cee383353a5a22c0d92'), Link(kind='section', direction='out', tag='1df7562d6cfbb11bdcf1bd598c631377'), Link(kind='section', direction='out', tag='ed6d5d2b2f198edf9aa214be3e5ae3bd'), Link(kind='section', direction='out', tag='b4b731a723ab309199c9db60cbc9a409')]}\n"
     ]
    },
    {
     "name": "stderr",
     "output_type": "stream",
     "text": [
      "2024-10-23 11:05:20,804 - httpx - INFO - HTTP Request: POST https://api.openai.com/v1/embeddings \"HTTP/1.1 200 OK\"\n",
      "2024-10-23 11:05:21,183 - httpx - INFO - HTTP Request: POST https://api.openai.com/v1/embeddings \"HTTP/1.1 200 OK\"\n"
     ]
    },
    {
     "name": "stdout",
     "output_type": "stream",
     "text": [
      "page_content='Overweight (O). The stock's total return is expected to exceed the average total return of the analyst's industry (or industry team's) coverage universe, on a risk-adjusted basis, over the next 12-18 months.' metadata={'type': 'narravite_text', 'links': []}\n",
      "page_content='Equal-weight (E). The stock's total return is expected to be in line with the average total return of the analyst's industry (or industry team's) coverage universe, on a risk-adjusted basis, over the next 12-18 months.' metadata={'type': 'narravite_text', 'links': []}\n"
     ]
    },
    {
     "name": "stderr",
     "output_type": "stream",
     "text": [
      "2024-10-23 11:05:21,709 - httpx - INFO - HTTP Request: POST https://api.openai.com/v1/embeddings \"HTTP/1.1 200 OK\"\n"
     ]
    },
    {
     "name": "stdout",
     "output_type": "stream",
     "text": [
      "page_content='Not-Rated (NR). Currently the analyst does not have adequate conviction about the stock's total return relative to the average total return of the analyst's industry (or industry team's) coverage universe, on a risk-adjusted basis, over the next 12-18 months.' metadata={'type': 'narravite_text', 'links': []}\n"
     ]
    },
    {
     "name": "stderr",
     "output_type": "stream",
     "text": [
      "2024-10-23 11:05:22,252 - httpx - INFO - HTTP Request: POST https://api.openai.com/v1/embeddings \"HTTP/1.1 200 OK\"\n",
      "2024-10-23 11:05:22,515 - httpx - INFO - HTTP Request: POST https://api.openai.com/v1/embeddings \"HTTP/1.1 200 OK\"\n"
     ]
    },
    {
     "name": "stdout",
     "output_type": "stream",
     "text": [
      "page_content='Underweight (U). The stock's total return is expected to be below the average total return of the analyst's industry (or industry team's) coverage universe, on a risk-adjusted basis, over the next 12-18 months.' metadata={'type': 'narravite_text', 'links': []}\n"
     ]
    },
    {
     "name": "stderr",
     "output_type": "stream",
     "text": [
      "2024-10-23 11:05:22,763 - httpx - INFO - HTTP Request: POST https://api.openai.com/v1/embeddings \"HTTP/1.1 200 OK\"\n"
     ]
    },
    {
     "name": "stdout",
     "output_type": "stream",
     "text": [
      "page_content='Unless otherwise specified, the time frame for price targets included in Morgan Stanley Research is 12 to 18 months.' metadata={'type': 'narravite_text', 'links': []}\n"
     ]
    },
    {
     "name": "stderr",
     "output_type": "stream",
     "text": [
      "2024-10-23 11:05:23,026 - httpx - INFO - HTTP Request: POST https://api.openai.com/v1/embeddings \"HTTP/1.1 200 OK\"\n"
     ]
    },
    {
     "name": "stdout",
     "output_type": "stream",
     "text": [
      "page_content='Analyst Industry Views' metadata={'type': 'section', 'links': [Link(kind='section', direction='out', tag='6a7167e2af8a4da4661bba142d4e7263'), Link(kind='section', direction='out', tag='4cf1bdf65559bdb700465ccaee7ea4c8'), Link(kind='section', direction='out', tag='bb5022ac03062fd1d73bd02d0bc38ae0'), Link(kind='section', direction='out', tag='00f45cf8b16d772af3da1383d1ba7e91')]}\n",
      "page_content='Attractive (A): The analyst expects the performance of his or her industry coverage universe over the next 12-18 months to be attractive vs. the relevant broad market benchmark, as indicated below.' metadata={'type': 'narravite_text', 'links': []}\n"
     ]
    },
    {
     "name": "stderr",
     "output_type": "stream",
     "text": [
      "2024-10-23 11:05:23,583 - httpx - INFO - HTTP Request: POST https://api.openai.com/v1/embeddings \"HTTP/1.1 200 OK\"\n",
      "2024-10-23 11:05:23,796 - httpx - INFO - HTTP Request: POST https://api.openai.com/v1/embeddings \"HTTP/1.1 200 OK\"\n"
     ]
    },
    {
     "name": "stdout",
     "output_type": "stream",
     "text": [
      "page_content='In-Line (I): The analyst expects the performance of his or her industry coverage universe over the next 12-18 months to be in line with the relevant broad market benchmark, as indicated below.' metadata={'type': 'narravite_text', 'links': []}\n"
     ]
    },
    {
     "name": "stderr",
     "output_type": "stream",
     "text": [
      "2024-10-23 11:05:24,017 - httpx - INFO - HTTP Request: POST https://api.openai.com/v1/embeddings \"HTTP/1.1 200 OK\"\n"
     ]
    },
    {
     "name": "stdout",
     "output_type": "stream",
     "text": [
      "page_content='Cautious (C): The analyst views the performance of his or her industry coverage universe over the next 12-18 months with caution vs. the relevant broad market benchmark, as indicated below.' metadata={'type': 'narravite_text', 'links': []}\n",
      "page_content='Benchmarks for each region are as follows: North America - S&P 500; Latin America - relevant MSCI country index or MSCI Latin America Index; Europe - MSCI Europe; Japan - TOPIX; Asia - relevant MSCI country index or MSCI sub-regional index or MSCI AC Asia Pacific ex Japan Index.' metadata={'type': 'narravite_text', 'links': []}\n"
     ]
    },
    {
     "name": "stderr",
     "output_type": "stream",
     "text": [
      "2024-10-23 11:05:24,401 - httpx - INFO - HTTP Request: POST https://api.openai.com/v1/embeddings \"HTTP/1.1 200 OK\"\n",
      "2024-10-23 11:05:24,632 - httpx - INFO - HTTP Request: POST https://api.openai.com/v1/embeddings \"HTTP/1.1 200 OK\"\n"
     ]
    },
    {
     "name": "stdout",
     "output_type": "stream",
     "text": [
      "page_content='Stock Price, Price Target and Rating History (See Rating Definitions)' metadata={'type': 'section', 'links': [Link(kind='section', direction='out', tag='9154e90b09d53cc4a3960cb3c7b940db')]}\n",
      "page_content='UPDATE' metadata={'type': 'image', 'links': []}\n"
     ]
    },
    {
     "name": "stderr",
     "output_type": "stream",
     "text": [
      "2024-10-23 11:05:24,903 - httpx - INFO - HTTP Request: POST https://api.openai.com/v1/embeddings \"HTTP/1.1 200 OK\"\n"
     ]
    },
    {
     "name": "stdout",
     "output_type": "stream",
     "text": [
      "page_content='Morgan Stanley | sesearcs' metadata={'type': 'section', 'links': [Link(kind='section', direction='out', tag='0c3c38da65550eb3731c96b1f75ba37f')]}\n"
     ]
    },
    {
     "name": "stderr",
     "output_type": "stream",
     "text": [
      "2024-10-23 11:05:25,215 - httpx - INFO - HTTP Request: POST https://api.openai.com/v1/embeddings \"HTTP/1.1 200 OK\"\n"
     ]
    },
    {
     "name": "stdout",
     "output_type": "stream",
     "text": [
      "page_content='Apple, Inc. CAAPL.O) - As of 7/31/18 in USD Industry : IT Hardware $040 +0 ahd 3 aie 2 toe 200 ate 20 ememe! 200 177 ygp eee =u! 16: 154 moe 155 is2 148 150 1 a Meee ely . —L 123 mr <a 120 be re 100 0 08704 13704 08704 080 2015 2016 2017 2016 Stock Rating History: 6/1/15 : O/C? 1/25/16 2 OM Price Target History: 7/22/15 2: 1557 10711715 : 1627 1026715 2 1527 12/13/15 2 1437 1726716 = 135; 4/27/16 : 1207 7726716 2 1237 10/14/16 & 1247 1025716 5 1487 1451717 2 1507 221717 = 1547 4719/17 2 1617 S/i7/i7 : 17? e F716717 2 1627 B719/17 & 1947 10710717 5 1997 11/2717 2 2007 1/23/18 : 2057 1725718 3 200; 2/1/18 2 2037 4/20/18 § 2007 5/23/18 & 2147 7723/16 2 232 Source: Morgan Stanley Research Date Format : MM/DD/YY Price Target =» No Price Target Assigned (NA? Stock Price (Not Covered by Current Analyst? Stock Price (Covered by Current Analyst) Stock and Industry Ratings (abbreviations below) appear as # Stock Rating/Industry View Stock Ratings: Overweight (0) Equal-weight (E) Underweight (U) Not-Rated (NR) No Rating Available (NA? Industry View: Attractive (A? In-line (1) Cautious 0) No Rating ‘NR? Effective January 13, 2014, the stocks covered by Morgan Stanley Asia Pacific will be rated relative to the analyst’s industry for industry team’s)? coverage. Effective January 13, 201¢- the industry view benchmarks for Morgan Stanley Asia Pacific are as follows: relevant MSCI country index or MSCI sub-regional index or MSCI AC Asia Pacific ex Japan Index.' metadata={'type': 'image', 'links': []}\n"
     ]
    },
    {
     "name": "stderr",
     "output_type": "stream",
     "text": [
      "2024-10-23 11:05:25,527 - httpx - INFO - HTTP Request: POST https://api.openai.com/v1/embeddings \"HTTP/1.1 200 OK\"\n",
      "2024-10-23 11:05:25,768 - httpx - INFO - HTTP Request: POST https://api.openai.com/v1/embeddings \"HTTP/1.1 200 OK\"\n"
     ]
    },
    {
     "name": "stdout",
     "output_type": "stream",
     "text": [
      "page_content='Important Disclosures for Morgan Stanley Smith Barney LLC Customers' metadata={'type': 'section', 'links': [Link(kind='section', direction='out', tag='7df5d0ae427b14f26c2fbf85fa4bfc88')]}\n",
      "page_content='Important disclosures regarding the relationship between the companies that are the subject of Morgan Stanley Research and Morgan Stanley Smith Barney LLC or Morgan Stanley or any of their affiliates, are available on the Morgan Stanley Wealth Management disclosure website at www.morganstanley.com/online/researchdisclosures. For Morgan Stanley specific disclosures, you may refer to' metadata={'type': 'narravite_text', 'links': []}\n"
     ]
    },
    {
     "name": "stderr",
     "output_type": "stream",
     "text": [
      "2024-10-23 11:05:26,245 - httpx - INFO - HTTP Request: POST https://api.openai.com/v1/embeddings \"HTTP/1.1 200 OK\"\n"
     ]
    },
    {
     "name": "stdout",
     "output_type": "stream",
     "text": [
      "page_content='www.morganstanley.com/researchdisclosures.' metadata={'type': 'section', 'links': [Link(kind='section', direction='out', tag='69defd1ac6cac85122841e4a3f397baa')]}\n"
     ]
    },
    {
     "name": "stderr",
     "output_type": "stream",
     "text": [
      "2024-10-23 11:05:26,564 - httpx - INFO - HTTP Request: POST https://api.openai.com/v1/embeddings \"HTTP/1.1 200 OK\"\n"
     ]
    },
    {
     "name": "stdout",
     "output_type": "stream",
     "text": [
      "page_content='Each Morgan Stanley Equity Research report is reviewed and approved on behalf of Morgan Stanley Smith Barney LLC. This review and approval is conducted by the same person who reviews the Equity Research report on behalf of Morgan Stanley. This could create a conflict of interest.' metadata={'type': 'narravite_text', 'links': []}\n"
     ]
    },
    {
     "name": "stderr",
     "output_type": "stream",
     "text": [
      "2024-10-23 11:05:27,475 - httpx - INFO - HTTP Request: POST https://api.openai.com/v1/embeddings \"HTTP/1.1 200 OK\"\n",
      "2024-10-23 11:05:27,795 - httpx - INFO - HTTP Request: POST https://api.openai.com/v1/embeddings \"HTTP/1.1 200 OK\"\n"
     ]
    },
    {
     "name": "stdout",
     "output_type": "stream",
     "text": [
      "page_content='Other Important Disclosures' metadata={'type': 'section', 'links': [Link(kind='section', direction='out', tag='a7d71ae098eae40c15a271aee165ebab'), Link(kind='section', direction='out', tag='cbc006f3ec6218b3d7582148ea522a96'), Link(kind='section', direction='out', tag='d28ae10d71a2a28142497f655f1891e8'), Link(kind='section', direction='out', tag='2678c27277d028c8984b1d8d45626867'), Link(kind='section', direction='out', tag='d380755b92064d969bc04c4223fec292'), Link(kind='section', direction='out', tag='23c857cce4ec69c308f7b9041d21758a'), Link(kind='section', direction='out', tag='d2c338c2b6a7db75f1f78c8d02df90bd'), Link(kind='section', direction='out', tag='254caf89f246077d2915784650c21481')]}\n"
     ]
    },
    {
     "name": "stderr",
     "output_type": "stream",
     "text": [
      "2024-10-23 11:05:28,017 - httpx - INFO - HTTP Request: POST https://api.openai.com/v1/embeddings \"HTTP/1.1 200 OK\"\n"
     ]
    },
    {
     "name": "stdout",
     "output_type": "stream",
     "text": [
      "page_content='Morgan Stanley & Co. International PLC and its affiliates have a significant financial interest in the debt securities of Apple, Inc., Fitbit Inc, GoPro Inc, Hewlett Packard Enterprise, HP Inc., IBM, NetApp Inc, Pure Storage Inc, Xerox Corp.' metadata={'type': 'narravite_text', 'links': []}\n",
      "page_content='Morgan Stanley Research policy is to update research reports as and when the Research Analyst and Research Management deem appropriate, based on developments with the issuer, the sector, or the market that may have a material impact on the research views or opinions stated therein. In addition, certain Research publications are intended to be updated on a regular periodic basis (weekly/monthly/quarterly/annual) and will ordinarily be updated with that frequency, unless the Research Analyst and Research Management determine that a different publication schedule is appropriate based on current conditions. Morgan Stanley is not acting as a municipal advisor and the opinions or views contained herein are not intended to be, and do not constitute, advice within the meaning of Section 975 of the Dodd-Frank Wall Street Reform and Consumer Protection Act.' metadata={'type': 'narravite_text', 'links': []}\n"
     ]
    },
    {
     "name": "stderr",
     "output_type": "stream",
     "text": [
      "2024-10-23 11:05:28,396 - httpx - INFO - HTTP Request: POST https://api.openai.com/v1/embeddings \"HTTP/1.1 200 OK\"\n",
      "2024-10-23 11:05:28,630 - httpx - INFO - HTTP Request: POST https://api.openai.com/v1/embeddings \"HTTP/1.1 200 OK\"\n"
     ]
    },
    {
     "name": "stdout",
     "output_type": "stream",
     "text": [
      "page_content='Morgan Stanley produces an equity research product called a \"Tactical Idea.\" Views contained in a \"Tactical Idea\" on a particular stock may be contrary to the recommendations or views expressed in research on the same stock. This may be the result of differing time horizons, methodologies, market events, or other factors. For all research available on a particular stock, please contact your sales representative or go to Matrix at http://www.morganstanley.com/matrix. Morgan Stanley Research is provided to our clients through our proprietary research portal on Matrix and also distributed electronically by Morgan Stanley to clients. Certain, but not all, Morgan Stanley Research products are also made available to clients through third-party vendors or redistributed to clients through alternate electronic means as a convenience. For access to all available Morgan Stanley Research, please contact your sales representative or go to Matrix at http://www.morganstanley.com/matrix.' metadata={'type': 'narravite_text', 'links': []}\n",
      "page_content='Any access and/or use of Morgan Stanley Research is subject to Morgan Stanley's Terms of Use (http://www.morganstanley.com/terms.html). By accessing and/or using Morgan Stanley Research, you are indicating that you have read and agree to be bound by our Terms of Use' metadata={'type': 'narravite_text', 'links': []}\n"
     ]
    },
    {
     "name": "stderr",
     "output_type": "stream",
     "text": [
      "2024-10-23 11:05:29,288 - httpx - INFO - HTTP Request: POST https://api.openai.com/v1/embeddings \"HTTP/1.1 200 OK\"\n",
      "2024-10-23 11:05:29,582 - httpx - INFO - HTTP Request: POST https://api.openai.com/v1/embeddings \"HTTP/1.1 200 OK\"\n"
     ]
    },
    {
     "name": "stdout",
     "output_type": "stream",
     "text": [
      "page_content='(http://www.morganstanley.com/terms.html). In addition you consent to Morgan Stanley processing your personal data and using cookies in accordance with our Privacy Policy and our Global Cookies Policy (http://www.morganstanley.com/privacy_pledge.html), including for the purposes of setting your preferences and to collect readership data so that we can deliver better and more personalized service and products to you. To find out more information about how Morgan Stanley processes personal data, how we use cookies and how to reject cookies see our Privacy Policy and our Global Cookies Policy (http://www.morganstanley.com/privacy_pledge.html).' metadata={'type': 'narravite_text', 'links': []}\n",
      "page_content='If you do not agree to our Terms of Use and/or if you do not wish to provide your consent to Morgan Stanley processing your personal data or using cookies please do not access our research.' metadata={'type': 'narravite_text', 'links': []}\n"
     ]
    },
    {
     "name": "stderr",
     "output_type": "stream",
     "text": [
      "2024-10-23 11:05:30,138 - httpx - INFO - HTTP Request: POST https://api.openai.com/v1/embeddings \"HTTP/1.1 200 OK\"\n"
     ]
    },
    {
     "name": "stdout",
     "output_type": "stream",
     "text": [
      "page_content='Morgan Stanley Research does not provide individually tailored investment advice. Morgan Stanley Research has been prepared without regard to the circumstances and objectives of those who receive it. Morgan Stanley recommends that investors independently evaluate particular investments and' metadata={'type': 'narravite_text', 'links': []}\n"
     ]
    },
    {
     "name": "stderr",
     "output_type": "stream",
     "text": [
      "2024-10-23 11:05:30,665 - httpx - INFO - HTTP Request: POST https://api.openai.com/v1/embeddings \"HTTP/1.1 200 OK\"\n"
     ]
    },
    {
     "name": "stdout",
     "output_type": "stream",
     "text": [
      "page_content='UPDATE' metadata={'type': 'image', 'links': []}\n"
     ]
    },
    {
     "name": "stderr",
     "output_type": "stream",
     "text": [
      "2024-10-23 11:05:31,024 - httpx - INFO - HTTP Request: POST https://api.openai.com/v1/embeddings \"HTTP/1.1 200 OK\"\n",
      "2024-10-23 11:05:31,333 - httpx - INFO - HTTP Request: POST https://api.openai.com/v1/embeddings \"HTTP/1.1 200 OK\"\n"
     ]
    },
    {
     "name": "stdout",
     "output_type": "stream",
     "text": [
      "page_content='Morgan Stanley | sesearcs' metadata={'type': 'section', 'links': [Link(kind='section', direction='out', tag='3b71a7319989f470c0c31c15ca9ccd81'), Link(kind='section', direction='out', tag='9c8061fe15e475f736871b8e1922009c'), Link(kind='section', direction='out', tag='4dba571de90d318b3c06ccaacd29c56b'), Link(kind='section', direction='out', tag='8a3096564986d3c9f9fcee0a27ec334f'), Link(kind='section', direction='out', tag='adc505d9aa5d303ba31492035d7573c1'), Link(kind='section', direction='out', tag='aa930db5b5be382f71b1da1465756dea'), Link(kind='section', direction='out', tag='1ef1f557aed75fe75b9d460efb4cf31a'), Link(kind='section', direction='out', tag='6cf10b8c95d62f3e0c8e221fd8402f99'), Link(kind='section', direction='out', tag='d9cb191947f25f1fad1bda4a0937c905'), Link(kind='section', direction='out', tag='b8bf8d1f18a0f9b30ac8410f3e401691'), Link(kind='section', direction='out', tag='4e64a56b934323c6511144992b8f7361'), Link(kind='section', direction='out', tag='e11d4b0e2ecbf749074930b83d6d989f'), Link(kind='section', direction='out', tag='1584fa17ab1652250d58b2000ecbc63e')]}\n",
      "page_content='strategies, and encourages investors to seek the advice of a financial adviser. The appropriateness of an investment or strategy will depend on an investor's circumstances and objectives. The securities, instruments, or strategies discussed in Morgan Stanley Research may not be suitable for all investors, and certain investors may not be eligible to purchase or participate in some or all of them. Morgan Stanley Research is not an offer to buy or sell or the solicitation of an offer to buy or sell any security/instrument or to participate in any particular trading strategy. The value of and income from your investments may vary because of changes in interest rates, foreign exchange rates, default rates, prepayment rates, securities/instruments prices, market indexes, operational or financial conditions of companies or other factors. There may be time limitations on the exercise of options or other rights in securities/instruments transactions. Past performance is not necessarily a guide to future performance. Estimates of future performance are based on assumptions that may not be realized. If provided, and unless otherwise stated, the closing price on the cover page is that of the primary exchange for the subject company's securities/instruments.' metadata={'type': 'narravite_text', 'links': []}\n"
     ]
    },
    {
     "name": "stderr",
     "output_type": "stream",
     "text": [
      "2024-10-23 11:05:31,603 - httpx - INFO - HTTP Request: POST https://api.openai.com/v1/embeddings \"HTTP/1.1 200 OK\"\n",
      "2024-10-23 11:05:31,845 - httpx - INFO - HTTP Request: POST https://api.openai.com/v1/embeddings \"HTTP/1.1 200 OK\"\n"
     ]
    },
    {
     "name": "stdout",
     "output_type": "stream",
     "text": [
      "page_content='The fixed income research analysts, strategists or economists principally responsible for the preparation of Morgan Stanley Research have received compensation based upon various factors, including quality, accuracy and value of research, firm profitability or revenues (which include fixed income trading and capital markets profitability or revenues), client feedback and competitive factors. Fixed Income Research analysts', strategists' or economists' compensation is not linked to investment banking or capital markets transactions performed by Morgan Stanley or the profitability or revenues of particular trading desks.' metadata={'type': 'narravite_text', 'links': []}\n"
     ]
    },
    {
     "name": "stderr",
     "output_type": "stream",
     "text": [
      "2024-10-23 11:05:32,063 - httpx - INFO - HTTP Request: POST https://api.openai.com/v1/embeddings \"HTTP/1.1 200 OK\"\n"
     ]
    },
    {
     "name": "stdout",
     "output_type": "stream",
     "text": [
      "page_content='The \"Important US Regulatory Disclosures on Subject Companies\" section in Morgan Stanley Research lists all companies mentioned where Morgan Stanley owns 1% or more of a class of common equity securities of the companies. For all other companies mentioned in Morgan Stanley Research, Morgan Stanley may have an investment of less than 1% in securities/instruments or derivatives of securities/instruments of companies and may trade them in ways different from those discussed in Morgan Stanley Research. Employees of Morgan Stanley not involved in the preparation of Morgan Stanley Research may have investments in securities/instruments or derivatives of securities/instruments of companies mentioned and may trade them in ways different from those discussed in Morgan Stanley Research. Derivatives may be issued by Morgan Stanley or associated persons.' metadata={'type': 'narravite_text', 'links': []}\n"
     ]
    },
    {
     "name": "stderr",
     "output_type": "stream",
     "text": [
      "2024-10-23 11:05:32,288 - httpx - INFO - HTTP Request: POST https://api.openai.com/v1/embeddings \"HTTP/1.1 200 OK\"\n"
     ]
    },
    {
     "name": "stdout",
     "output_type": "stream",
     "text": [
      "page_content='With the exception of information regarding Morgan Stanley, Morgan Stanley Research is based on public information. Morgan Stanley makes every effort to use reliable, comprehensive information, but we make no representation that it is accurate or complete. We have no obligation to tell you when opinions or information in Morgan Stanley Research change apart from when we intend to discontinue equity research coverage of a subject company. Facts and views presented in Morgan Stanley Research have not been reviewed by, and may not reflect information known to, professionals in other Morgan Stanley business areas, including investment banking personnel.' metadata={'type': 'narravite_text', 'links': []}\n",
      "page_content='Morgan Stanley Research personnel may participate in company events such as site visits and are generally prohibited from accepting payment by the company of associated expenses unless pre-approved by authorized members of Research management.' metadata={'type': 'narravite_text', 'links': []}\n"
     ]
    },
    {
     "name": "stderr",
     "output_type": "stream",
     "text": [
      "2024-10-23 11:05:32,575 - httpx - INFO - HTTP Request: POST https://api.openai.com/v1/embeddings \"HTTP/1.1 200 OK\"\n"
     ]
    },
    {
     "name": "stdout",
     "output_type": "stream",
     "text": [
      "page_content='Morgan Stanley may make investment decisions that are inconsistent with the recommendations or views in this report.' metadata={'type': 'narravite_text', 'links': []}\n"
     ]
    },
    {
     "name": "stderr",
     "output_type": "stream",
     "text": [
      "2024-10-23 11:05:33,197 - httpx - INFO - HTTP Request: POST https://api.openai.com/v1/embeddings \"HTTP/1.1 200 OK\"\n",
      "2024-10-23 11:05:33,396 - httpx - INFO - HTTP Request: POST https://api.openai.com/v1/embeddings \"HTTP/1.1 200 OK\"\n"
     ]
    },
    {
     "name": "stdout",
     "output_type": "stream",
     "text": [
      "page_content='To our readers based in Taiwan or trading in Taiwan securities/instruments: Information on securities/instruments that trade in Taiwan is distributed by Morgan Stanley Taiwan Limited (\"MSTL\"). Such information is for your reference only. The reader should independently evaluate the investment risks and is solely responsible for their investment decisions. Morgan Stanley Research may not be distributed to the public media or quoted or used by the public media without the express written consent of Morgan Stanley. Any non-customer reader within the scope of Article 7-1 of the Taiwan Stock Exchange Recommendation Regulations accessing and/or receiving Morgan Stanley Research is not permitted to provide Morgan Stanley Research to any third party (including but not limited to related parties, affiliated companies and any other third parties) or engage in any activities regarding Morgan Stanley Research which may create or give the appearance of creating a conflict of interest. Information on securities/instruments that do not trade in Taiwan is for informational purposes only and is not to be construed as a recommendation or a solicitation to trade in such securities/instruments. MSTL may not execute transactions for clients in these securities/instruments.' metadata={'type': 'narravite_text', 'links': []}\n",
      "page_content='Morgan Stanley is not incorporated under PRC law and the research in relation to this report is conducted outside the PRC. Morgan Stanley Research does not constitute an offer to sell or the solicitation of an offer to buy any securities in the PRC. PRC investors shall have the relevant qualifications to invest in such securities and shall be responsible for obtaining all relevant approvals, licenses, verifications and/or registrations from the relevant governmental authorities themselves. Neither this report nor any part of it is intended as, or shall constitute, provision of any consultancy or advisory service of securities investment as defined under PRC law. Such information is provided for your reference only.' metadata={'type': 'narravite_text', 'links': []}\n"
     ]
    },
    {
     "name": "stderr",
     "output_type": "stream",
     "text": [
      "2024-10-23 11:05:33,633 - httpx - INFO - HTTP Request: POST https://api.openai.com/v1/embeddings \"HTTP/1.1 200 OK\"\n"
     ]
    },
    {
     "name": "stdout",
     "output_type": "stream",
     "text": [
      "page_content='Morgan Stanley Research is disseminated in Brazil by Morgan Stanley C.T.V.M. S.A.; in Mexico by Morgan Stanley México, Casa de Bolsa, S.A. de C.V which is regulated by Comision Nacional Bancaria y de Valores. Paseo de los Tamarindos 90, Torre 1, Col. Bosques de las Lomas Floor 29, 05120 Mexico City; in Japan by Morgan Stanley MUFG Securities Co., Ltd. and, for Commodities related research reports only, Morgan Stanley Capital Group Japan Co., Ltd; in Hong Kong by Morgan Stanley Asia Limited (which accepts responsibility for its contents) and by Morgan Stanley Asia International Limited, Hong Kong Branch; in Singapore by Morgan Stanley Asia (Singapore) Pte. (Registration number 199206298Z) and/or Morgan Stanley Asia (Singapore) Securities Pte Ltd (Registration number 200008434H), regulated by the Monetary Authority of Singapore (which accepts legal responsibility for its contents and should be contacted with respect to any matters arising from, or in connection with, Morgan Stanley Research) and by Morgan Stanley Asia International Limited, Singapore Branch (Registration number T11FC0207F); in Australia to \"wholesale clients\" within the meaning of the Australian Corporations Act by Morgan Stanley Australia Limited A.B.N. 67 003 734 576, holder of Australian financial services license No. 233742, which accepts responsibility for its contents; in Australia to \"wholesale clients\" and \"retail clients\" within the meaning of the Australian Corporations Act by Morgan Stanley Wealth Management Australia Pty Ltd (A.B.N. 19 009 145 555, holder of Australian financial services license No. 240813, which accepts responsibility for its contents; in Korea by Morgan Stanley & Co International plc, Seoul Branch; in India by Morgan Stanley India Company Private Limited; in Indonesia by PT. Morgan Stanley Sekuritas Indonesia; in Canada by Morgan Stanley Canada Limited, which has approved of and takes responsibility for its contents in Canada; in Germany by Morgan Stanley Bank AG, Frankfurt am Main and Morgan Stanley Private Wealth Management Limited, Niederlassung Deutschland, regulated by Bundesanstalt fuer Finanzdienstleistungsaufsicht (BaFin); in Spain by Morgan Stanley, S.V., S.A., a Morgan Stanley group company, which is supervised by the Spanish Securities Markets Commission (CNMV) and states that Morgan Stanley Research has been written and distributed in accordance with the rules of conduct applicable to financial research as established under Spanish regulations; in the US by Morgan Stanley & Co. LLC, which accepts responsibility for its contents. Morgan Stanley & Co. International plc, authorized by the Prudential Regulatory Authority and regulated by the Financial Conduct Authority and the Prudential Regulatory Authority, disseminates in the UK research that it has prepared, and approves solely for the purposes of section 21 of the Financial Services and Markets Act 2000, research which has been prepared by any of its affiliates. RMB Morgan Stanley Proprietary Limited is a member of the JSE Limited and regulated by the Financial Services Board in South Africa. RMB Morgan Stanley Proprietary Limited is a joint venture owned equally by Morgan Stanley International Holdings Inc. and RMB Investment Advisory (Proprietary) Limited, which is wholly owned by FirstRand Limited. The information in Morgan Stanley Research is being disseminated by Morgan Stanley Saudi Arabia, regulated by the Capital Market Authority in the Kingdom of Saudi Arabia , and is' metadata={'type': 'narravite_text', 'links': []}\n"
     ]
    },
    {
     "name": "stderr",
     "output_type": "stream",
     "text": [
      "2024-10-23 11:05:34,141 - httpx - INFO - HTTP Request: POST https://api.openai.com/v1/embeddings \"HTTP/1.1 200 OK\"\n"
     ]
    },
    {
     "name": "stdout",
     "output_type": "stream",
     "text": [
      "page_content='directed at Sophisticated investors only.' metadata={'type': 'narravite_text', 'links': []}\n"
     ]
    },
    {
     "name": "stderr",
     "output_type": "stream",
     "text": [
      "2024-10-23 11:05:34,436 - httpx - INFO - HTTP Request: POST https://api.openai.com/v1/embeddings \"HTTP/1.1 200 OK\"\n"
     ]
    },
    {
     "name": "stdout",
     "output_type": "stream",
     "text": [
      "page_content='The information in Morgan Stanley Research is being communicated by Morgan Stanley & Co. International plc (DIFC Branch), regulated by the Dubai Financial Services Authority (the DFSA), and is directed at Professional Clients only, as defined by the DFSA. The financial products or financial services to which this research relates will only be made available to a customer who we are satisfied meets the regulatory criteria to be a Professional Client. The information in Morgan Stanley Research is being communicated by Morgan Stanley & Co. International plc (QFC Branch), regulated by the Qatar Financial Centre Regulatory Authority (the QFCRA), and is directed at business customers and market counterparties only and is not intended for Retail Customers as defined by the QFCRA.' metadata={'type': 'narravite_text', 'links': []}\n"
     ]
    },
    {
     "name": "stderr",
     "output_type": "stream",
     "text": [
      "2024-10-23 11:05:34,727 - httpx - INFO - HTTP Request: POST https://api.openai.com/v1/embeddings \"HTTP/1.1 200 OK\"\n"
     ]
    },
    {
     "name": "stdout",
     "output_type": "stream",
     "text": [
      "page_content='As required by the Capital Markets Board of Turkey, investment information, comments and recommendations stated here, are not within the scope of investment advisory activity. Investment advisory service is provided exclusively to persons based on their risk and income preferences by the authorized firms. Comments and recommendations stated here are general in nature. These opinions may not fit to your financial status, risk and return preferences. For this' metadata={'type': 'narravite_text', 'links': []}\n"
     ]
    },
    {
     "name": "stderr",
     "output_type": "stream",
     "text": [
      "2024-10-23 11:05:35,151 - httpx - INFO - HTTP Request: POST https://api.openai.com/v1/embeddings \"HTTP/1.1 200 OK\"\n",
      "2024-10-23 11:05:35,519 - httpx - INFO - HTTP Request: POST https://api.openai.com/v1/embeddings \"HTTP/1.1 200 OK\"\n"
     ]
    },
    {
     "name": "stdout",
     "output_type": "stream",
     "text": [
      "page_content='UPDATE' metadata={'type': 'image', 'links': []}\n",
      "page_content='UPDATE' metadata={'type': 'section', 'links': []}\n"
     ]
    },
    {
     "name": "stderr",
     "output_type": "stream",
     "text": [
      "2024-10-23 11:05:36,075 - httpx - INFO - HTTP Request: POST https://api.openai.com/v1/embeddings \"HTTP/1.1 200 OK\"\n",
      "2024-10-23 11:05:36,307 - httpx - INFO - HTTP Request: POST https://api.openai.com/v1/embeddings \"HTTP/1.1 200 OK\"\n"
     ]
    },
    {
     "name": "stdout",
     "output_type": "stream",
     "text": [
      "page_content='Morgan Stanley | sesearcs' metadata={'type': 'section', 'links': [Link(kind='section', direction='out', tag='bc7d91fb65194211b62ad3522676be33'), Link(kind='section', direction='out', tag='3e8cd0225fb0edc8b8e9ab1079dc80a4'), Link(kind='section', direction='out', tag='a776f2167b7f99b88f6eefe8288689e9'), Link(kind='section', direction='out', tag='e627ca212cc6a26e6261b7b5c646b00e'), Link(kind='section', direction='out', tag='e5fefcfa1cc184642aa21590d05a6bf4')]}\n"
     ]
    },
    {
     "name": "stderr",
     "output_type": "stream",
     "text": [
      "2024-10-23 11:05:36,563 - httpx - INFO - HTTP Request: POST https://api.openai.com/v1/embeddings \"HTTP/1.1 200 OK\"\n"
     ]
    },
    {
     "name": "stdout",
     "output_type": "stream",
     "text": [
      "page_content='reason, to make an investment decision by relying solely to this information stated here may not bring about outcomes that fit your expectations. The trademarks and service marks contained in Morgan Stanley Research are the property of their respective owners. Third-party data providers make no warranties or representations relating to the accuracy, completeness, or timeliness of the data they provide and shall not have liability for any damages relating to such data. The Global Industry Classification Standard (GICS) was developed by and is the exclusive property of MSCI and S&P. Morgan Stanley Research, or any portion thereof may not be reprinted, sold or redistributed without the written consent of Morgan Stanley.' metadata={'type': 'narravite_text', 'links': []}\n",
      "page_content='INDUSTRY COVERAGE: IT Hardware' metadata={'type': 'narravite_text', 'links': []}\n"
     ]
    },
    {
     "name": "stderr",
     "output_type": "stream",
     "text": [
      "2024-10-23 11:05:37,208 - httpx - INFO - HTTP Request: POST https://api.openai.com/v1/embeddings \"HTTP/1.1 200 OK\"\n",
      "2024-10-23 11:05:37,448 - httpx - INFO - HTTP Request: POST https://api.openai.com/v1/embeddings \"HTTP/1.1 200 OK\"\n"
     ]
    },
    {
     "name": "stdout",
     "output_type": "stream",
     "text": [
      "page_content='COMPANY (TICKER) RATING (AS OF) PRICE* (07/31/2018) Katy L. Huberty, CFA Apple, Inc. (AAPL.O) O (05/26/2009) $190.29 CDW Corporation (CDW.O) E (08/06/2013) $84.09 Electronics for Imaging Inc (EFII.O) U (08/03/2017) $34.12 Hewlett Packard Enterprise (HPE.N) HP Inc. (HPQ.N) O (01/23/2018) E (01/23/2018) $15.44 $23.08 IBM (IBM.N) O (02/18/2016) $144.93 NCR Corp. (NCR.N) E (09/25/2011) $27.92 NetApp Inc (NTAP.O) E (01/23/2018) $77.52 Nutanix Inc (NTNX.O) Pure Storage Inc (PSTG.N) E (05/10/2017) E (05/18/2017) $48.89 $21.66 Seagate Technology (STX.O) O (04/09/2018) $52.62 Teradata (TDC.N) E (01/23/2018) $38.29 Xerox Corp (XRX.N) ++ $25.97 Yuuji Anderson Fitbit Inc (FIT.N) Garmin Ltd (GRMN.O) U (04/01/2018) E (01/07/2015) $5.93 $62.45 GoPro Inc (GPRO.O) U (01/23/2018) $5.84' metadata={'type': 'table', 'links': []}\n",
      "page_content='Stock Ratings are subject to change. Please see latest research for each company.' metadata={'type': 'narravite_text', 'links': []}\n"
     ]
    },
    {
     "name": "stderr",
     "output_type": "stream",
     "text": [
      "2024-10-23 11:05:37,777 - httpx - INFO - HTTP Request: POST https://api.openai.com/v1/embeddings \"HTTP/1.1 200 OK\"\n",
      "2024-10-23 11:05:37,956 - httpx - INFO - HTTP Request: POST https://api.openai.com/v1/embeddings \"HTTP/1.1 200 OK\"\n"
     ]
    },
    {
     "name": "stdout",
     "output_type": "stream",
     "text": [
      "page_content='* Historical prices are not split adjusted.' metadata={'type': 'narravite_text', 'links': []}\n",
      "page_content='© 2018 Morgan Stanley' metadata={'type': 'section', 'links': [Link(kind='section', direction='out', tag='b1993a85e531ebcc7c51396004dce994')]}\n"
     ]
    },
    {
     "name": "stderr",
     "output_type": "stream",
     "text": [
      "2024-10-23 11:05:38,471 - httpx - INFO - HTTP Request: POST https://api.openai.com/v1/embeddings \"HTTP/1.1 200 OK\"\n"
     ]
    },
    {
     "name": "stdout",
     "output_type": "stream",
     "text": [
      "page_content='UPDATE' metadata={'type': 'image', 'links': []}\n"
     ]
    }
   ],
   "source": [
    "from nx2document import NxToDocuments\n",
    "from dotenv import load_dotenv\n",
    "load_dotenv()\n",
    "graphrag = NxToDocuments(connect_to_database=True, reset_store=True)\n",
    "for doc in graphrag.nx_to_documents(G):\n",
    "    print(doc)\n"
   ]
  },
  {
   "cell_type": "code",
   "execution_count": 15,
   "metadata": {},
   "outputs": [
    {
     "name": "stderr",
     "output_type": "stream",
     "text": [
      "2024-10-23 11:10:11,452 - httpx - INFO - HTTP Request: POST https://api.openai.com/v1/embeddings \"HTTP/1.1 200 OK\"\n"
     ]
    },
    {
     "name": "stdout",
     "output_type": "stream",
     "text": [
      "$  400  350  300  $335.00 (+76%)  250  200  $190.29  $232.00 (+22%)  150  $145.00 (-24%)  100  50  0  Jul-16  Jan-17  Price Target (Jul-19)  Jul-17  Jan-18  Historical Stock Performance  Jul-18  Jan-19  Current Stock Price  Jul-19  WARNINGDONOTEDIT_RRS4RL~AAPL.O~ \n",
      "\n",
      "\n",
      "Price Target\n",
      "\n",
      "\n",
      "Exhibit 3: Our sum-of-the-parts (SOTP) analysis drives our Apple price target of $232 (unchanged), which represents 15.7x CY19 EPS.\n",
      "\n",
      "\n",
      "Apple, Inc. CAAPL.O) - As of 7/31/18 in USD Industry : IT Hardware $040 +0 ahd 3 aie 2 toe 200 ate 20 ememe! 200 177 ygp eee =u! 16: 154 moe 155 is2 148 150 1 a Meee ely . —L 123 mr <a 120 be re 100 0 08704 13704 08704 080 2015 2016 2017 2016 Stock Rating History: 6/1/15 : O/C? 1/25/16 2 OM Price Target History: 7/22/15 2: 1557 10711715 : 1627 1026715 2 1527 12/13/15 2 1437 1726716 = 135; 4/27/16 : 1207 7726716 2 1237 10/14/16 & 1247 1025716 5 1487 1451717 2 1507 221717 = 1547 4719/17 2 1617 S/i7/i7 : 17? e F716717 2 1627 B719/17 & 1947 10710717 5 1997 11/2717 2 2007 1/23/18 : 2057 1725718 3 200; 2/1/18 2 2037 4/20/18 § 2007 5/23/18 & 2147 7723/16 2 232 Source: Morgan Stanley Research Date Format : MM/DD/YY Price Target =» No Price Target Assigned (NA? Stock Price (Not Covered by Current Analyst? Stock Price (Covered by Current Analyst) Stock and Industry Ratings (abbreviations below) appear as # Stock Rating/Industry View Stock Ratings: Overweight (0) Equal-weight (E) Underweight (U) Not-Rated (NR) No Rating Available (NA? Industry View: Attractive (A? In-line (1) Cautious 0) No Rating ‘NR? Effective January 13, 2014, the stocks covered by Morgan Stanley Asia Pacific will be rated relative to the analyst’s industry for industry team’s)? coverage. Effective January 13, 201¢- the industry view benchmarks for Morgan Stanley Asia Pacific are as follows: relevant MSCI country index or MSCI sub-regional index or MSCI AC Asia Pacific ex Japan Index.\n",
      "\n",
      "\n"
     ]
    }
   ],
   "source": [
    "from langchain.prompts import PromptTemplate\n",
    "from langchain.chat_models import ChatOpenAI\n",
    "from langchain.schema import HumanMessage\n",
    "\n",
    "retriever = graphrag.content_centric_store.as_retriever()\n",
    "docs = retriever.invoke(\"what is the price target range for the stock of Apple Inc. (AAPL)?\")\n",
    "\n",
    "for doc in docs:\n",
    "    print(doc.page_content)\n",
    "    print(\"\\n\")\n"
   ]
  },
  {
   "cell_type": "code",
   "execution_count": 14,
   "metadata": {},
   "outputs": [
    {
     "name": "stderr",
     "output_type": "stream",
     "text": [
      "/var/folders/hr/bsttdbns4nn9l1g54smlh_mr0000gn/T/ipykernel_70455/1350731166.py:14: LangChainDeprecationWarning: The class `ChatOpenAI` was deprecated in LangChain 0.0.10 and will be removed in 1.0. An updated version of the class exists in the :class:`~langchain-openai package and should be used instead. To use it run `pip install -U :class:`~langchain-openai` and import as `from :class:`~langchain_openai import ChatOpenAI``.\n",
      "  chat = ChatOpenAI(model=\"gpt-4\")\n",
      "/var/folders/hr/bsttdbns4nn9l1g54smlh_mr0000gn/T/ipykernel_70455/1350731166.py:16: LangChainDeprecationWarning: The method `BaseChatModel.__call__` was deprecated in langchain-core 0.1.7 and will be removed in 1.0. Use :meth:`~invoke` instead.\n",
      "  response = chat(messages)\n",
      "2024-10-23 11:09:10,713 - httpx - INFO - HTTP Request: POST https://api.openai.com/v1/chat/completions \"HTTP/1.1 200 OK\"\n"
     ]
    },
    {
     "name": "stdout",
     "output_type": "stream",
     "text": [
      "Based on the provided documents, Apple Inc.'s stock has seen significant changes in its price target over the years. The price target has fluctuated from a low of $145.00, indicating a -24% change, to a high of $335.00, suggesting a +76% change. As of the latest data available in the documents, the price target for AAPL is $232.00, which depicts a +22% change.\n",
      "\n",
      "The sum-of-the-parts (SOTP) analysis has been used to derive the price target of $232.00, which is equivalent to 15.7 times the Calendar Year 2019 (CY19) Earnings Per Share (EPS). This method involves evaluating each segment of the company to calculate the total business value. \n",
      "\n",
      "Historically, the stock price has seen various ratings, ranging from Overweight (O) to Equal-weight (E) and Underweight (U). However, no current specific rating is provided in the documents. \n",
      "\n",
      "The documents suggest that Apple Inc. operates in the IT Hardware industry, but there is no specific industry view or rating given. \n",
      "\n",
      "Given the historical stock performance, the current stock price, and the price target, it can be inferred that Apple Inc. has a potential upside of 22% from the current stock price to the target price of $232.00. It is recommended that potential investors consider their risk tolerance, investment horizon, and the overall market conditions before making an investment decision. \n",
      "\n",
      "Please note, this analysis is based on the data available in the provided documents and may not take into account the latest market developments or other factors that could impact Apple Inc.'s stock price.\n"
     ]
    }
   ],
   "source": [
    "# Define the prompt template\n",
    "prompt_template = \"\"\"\n",
    "You are an expert financial analyst. Based on the following documents, provide a detailed analysis of Apple Inc. (AAPL) and its stock price target range.:\n",
    "\n",
    "{documents}\n",
    "\n",
    "Your analysis:\n",
    "\"\"\"\n",
    "\n",
    "# Create a prompt\n",
    "prompt = PromptTemplate.from_template(prompt_template)\n",
    "\n",
    "# Initialize the OpenAI LLM\n",
    "chat = ChatOpenAI(model=\"gpt-4\")\n",
    "messages = [HumanMessage(content=prompt.format(documents=docs))]\n",
    "response = chat(messages)\n",
    "print(response.content)\n"
   ]
  }
 ],
 "metadata": {
  "kernelspec": {
   "display_name": ".venv",
   "language": "python",
   "name": "python3"
  },
  "language_info": {
   "codemirror_mode": {
    "name": "ipython",
    "version": 3
   },
   "file_extension": ".py",
   "mimetype": "text/x-python",
   "name": "python",
   "nbconvert_exporter": "python",
   "pygments_lexer": "ipython3",
   "version": "3.11.10"
  }
 },
 "nbformat": 4,
 "nbformat_minor": 2
}
